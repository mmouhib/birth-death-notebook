{
 "cells": [
  {
   "attachments": {},
   "cell_type": "markdown",
   "metadata": {
    "collapsed": false
   },
   "source": [
    "  <img src=\"mng.png\"/>"
   ]
  },
  {
   "cell_type": "markdown",
   "metadata": {
    "collapsed": false
   },
   "source": [
    "# importation\n",
    "importation des bibliotheques qu'on va utiliser"
   ]
  },
  {
   "cell_type": "code",
   "execution_count": 22,
   "metadata": {
    "collapsed": false
   },
   "outputs": [],
   "source": [
    "import csv\n",
    "from pymongo import MongoClient\n",
    "import matplotlib.pyplot as plt"
   ]
  },
  {
   "cell_type": "markdown",
   "metadata": {
    "collapsed": false
   },
   "source": [
    "# Traitement sur le fichier de donnees\n",
    "importation et conversion du contenu du fichier CSV en listes python"
   ]
  },
  {
   "cell_type": "code",
   "execution_count": null,
   "metadata": {
    "collapsed": false
   },
   "outputs": [],
   "source": [
    "with open('../data/data.csv', encoding='utf-8-sig') as dataFile:\n",
    "    reader = csv.reader(dataFile)\n",
    "    data = []\n",
    "    for row in reader:\n",
    "        data.append(row)\n",
    "\n",
    "    # pour supprimer la ligne des titres\n",
    "    data.pop(0)\n",
    "    print(data)"
   ]
  },
  {
   "cell_type": "markdown",
   "metadata": {
    "collapsed": false
   },
   "source": [
    "# Filtrage\n",
    "Filtrer le contenu de fichier et le diviser en 2 categories: `Births` et `Deaths`"
   ]
  },
  {
   "cell_type": "code",
   "execution_count": null,
   "metadata": {
    "collapsed": false
   },
   "outputs": [],
   "source": [
    "birthsList = []\n",
    "deathsList = []\n",
    "\n",
    "for element in data:\n",
    "    if element[1] == 'Births':\n",
    "        if int(element[3]) > 9999:\n",
    "            birthsList.append({'year': element[0],\n",
    "                               'region': element[2],\n",
    "                               'count': element[3],\n",
    "                               'high': 'true'\n",
    "                               })\n",
    "        else:\n",
    "\n",
    "            birthsList.append({'year': element[0],\n",
    "                               'region': element[2],\n",
    "                               'count': element[3],\n",
    "                               })\n",
    "\n",
    "    else:\n",
    "        if int(element[3]) > 9999:\n",
    "            deathsList.append({'year': element[0],\n",
    "                               'region': element[2],\n",
    "                               'count': int(element[3]),\n",
    "                               'high': 'true'\n",
    "                               })\n",
    "        else:\n",
    "            deathsList.append({'year': element[0],\n",
    "                               'region': element[2],\n",
    "                               'count': int(element[3])\n",
    "                               })\n",
    "\n",
    "print(birthsList)"
   ]
  },
  {
   "cell_type": "markdown",
   "metadata": {
    "collapsed": false
   },
   "source": [
    "# Connexion avec mongodb et initialisation avec chaque execution\n",
    "\n",
    "connexion et selection des collections `births` et `deaths`"
   ]
  },
  {
   "cell_type": "code",
   "execution_count": 25,
   "metadata": {
    "collapsed": false
   },
   "outputs": [],
   "source": [
    "client = MongoClient('mongodb://localhost:27017')\n",
    "\n",
    "client.list_database_names()\n",
    "\n",
    "DATABASE_NAME = 'births-and-deaths'\n",
    "db = client[DATABASE_NAME]\n",
    "\n",
    "births = db['births']\n",
    "deaths = db['deaths']\n",
    "region = db['region']\n",
    "\n",
    "births.delete_many({})\n",
    "deaths.delete_many({})\n",
    "region.delete_many({})\n",
    "\n",
    "births.insert_many(birthsList)\n",
    "deaths.insert_many(deathsList)\n",
    "region.insert_one({})\n",
    "\n",
    "region.drop_indexes()"
   ]
  },
  {
   "cell_type": "markdown",
   "metadata": {
    "collapsed": false
   },
   "source": [
    "# suppression des données inutilisées"
   ]
  },
  {
   "cell_type": "code",
   "execution_count": 26,
   "metadata": {
    "collapsed": false
   },
   "outputs": [
    {
     "data": {
      "text/plain": [
       "<pymongo.results.DeleteResult at 0x1893ad87a40>"
      ]
     },
     "execution_count": 26,
     "metadata": {},
     "output_type": "execute_result"
    }
   ],
   "source": [
    "births.delete_many({\"region\": \"Region not stated or area outside region\"})"
   ]
  },
  {
   "cell_type": "markdown",
   "metadata": {
    "collapsed": false
   },
   "source": [
    "# Aggregation:\n",
    "selection des documents de la collection `births` qui ont comme annee `2021`"
   ]
  },
  {
   "cell_type": "code",
   "execution_count": null,
   "metadata": {
    "collapsed": false
   },
   "outputs": [],
   "source": [
    "# births in 2021:\n",
    "aggregation = [\n",
    "    {\n",
    "        '$match': {'year': '2021'},\n",
    "    },\n",
    "]\n",
    "db.command('aggregate', 'births', pipeline=aggregation, explain=False)\n"
   ]
  },
  {
   "cell_type": "markdown",
   "metadata": {
    "collapsed": false
   },
   "source": [
    "# afficher le contenu du 'births'"
   ]
  },
  {
   "cell_type": "code",
   "execution_count": null,
   "metadata": {
    "collapsed": false
   },
   "outputs": [],
   "source": [
    "cursor = births.find()\n",
    "for element in cursor:\n",
    "    print(element)"
   ]
  },
  {
   "cell_type": "markdown",
   "metadata": {
    "collapsed": false
   },
   "source": [
    "# Aggregation:\n",
    "cette fonction python execute une commande d'aggregation de mongodb\n",
    "pour trouver le nombre de décès ou naissances au cours d'une année donnée"
   ]
  },
  {
   "cell_type": "code",
   "execution_count": 29,
   "metadata": {
    "collapsed": false
   },
   "outputs": [
    {
     "name": "stdout",
     "output_type": "stream",
     "text": [
      "58374\n",
      "128622\n"
     ]
    }
   ],
   "source": [
    "def get_by_year(collection, year):\n",
    "    aggregation_expression = [\n",
    "        {\n",
    "            '$match': {'year': str(year)},\n",
    "        },\n",
    "        {\n",
    "            \"$group\": {\"_id\": \"null\", \"somme\": {\"$sum\": {\"$toInt\": \"$count\"}}}\n",
    "        },\n",
    "    ]\n",
    "\n",
    "    ppl = db.command('aggregate', collection, pipeline=aggregation_expression, explain=False)\n",
    "    # print(\"resultat d'aggregation \\n\", ppl, end='\\n\\n')\n",
    "    try:\n",
    "        # print(f\"{collection} in {year}:\")\n",
    "        return ppl['cursor']['firstBatch'][0]['somme']\n",
    "    except:\n",
    "        return 0\n",
    "\n",
    "\n",
    "print(get_by_year('deaths', 2008))\n",
    "print(get_by_year('births', 2008))"
   ]
  },
  {
   "cell_type": "markdown",
   "metadata": {
    "collapsed": false
   },
   "source": [
    "# utilisation du bibliotheque de visualisation"
   ]
  },
  {
   "cell_type": "code",
   "execution_count": null,
   "metadata": {
    "collapsed": false
   },
   "outputs": [],
   "source": [
    "years = []\n",
    "births_by_year = []\n",
    "deaths_by_year = []\n",
    "\n",
    "for x in range(2005, 2021):\n",
    "    years.append(x)\n",
    "    deaths_by_year.append(get_by_year('deaths', str(x)))\n",
    "    births_by_year.append(get_by_year('births', str(x)))\n",
    "print(deaths_by_year)\n",
    "print(years)"
   ]
  },
  {
   "cell_type": "markdown",
   "metadata": {
    "collapsed": false
   },
   "source": [
    "# Visualisation des décès par an"
   ]
  },
  {
   "cell_type": "code",
   "execution_count": 31,
   "metadata": {
    "collapsed": false
   },
   "outputs": [
    {
     "data": {
      "text/plain": [
       "<BarContainer object of 16 artists>"
      ]
     },
     "execution_count": 31,
     "metadata": {},
     "output_type": "execute_result"
    },
    {
     "data": {
      "image/png": "[encoded data removed]",
      "text/plain": [
       "<Figure size 640x480 with 1 Axes>"
      ]
     },
     "metadata": {},
     "output_type": "display_data"
    }
   ],
   "source": [
    "plt.bar(years, deaths_by_year, width=1, color='crimson', ec='black')"
   ]
  },
  {
   "cell_type": "markdown",
   "metadata": {
    "collapsed": false
   },
   "source": [
    "# Visualisation des naissances par an"
   ]
  },
  {
   "cell_type": "code",
   "execution_count": 32,
   "metadata": {
    "collapsed": false
   },
   "outputs": [
    {
     "data": {
      "text/plain": [
       "<BarContainer object of 16 artists>"
      ]
     },
     "execution_count": 32,
     "metadata": {},
     "output_type": "execute_result"
    },
    {
     "data": {
      "image/png": "[encoded data removed]",
      "text/plain": [
       "<Figure size 640x480 with 1 Axes>"
      ]
     },
     "metadata": {},
     "output_type": "display_data"
    }
   ],
   "source": [
    "plt.bar(years, births_by_year, width=1, color='green', ec='black')"
   ]
  },
  {
   "cell_type": "markdown",
   "metadata": {
    "collapsed": false
   },
   "source": [
    "# Aggregation\n",
    "Former une nouvelle collection des region et stoquer les décés et naissances de chaqu'une"
   ]
  },
  {
   "cell_type": "code",
   "execution_count": 33,
   "metadata": {
    "collapsed": false
   },
   "outputs": [
    {
     "data": {
      "text/plain": [
       "<pymongo.results.InsertManyResult at 0x1893af2dcc0>"
      ]
     },
     "execution_count": 33,
     "metadata": {},
     "output_type": "execute_result"
    }
   ],
   "source": [
    "aggregate = [\n",
    "    {\n",
    "        \"$lookup\": {\n",
    "            \"from\": 'deaths',\n",
    "            \"let\": {\n",
    "                \"region\": '$region',\n",
    "                \"year\": '$year',\n",
    "            },\n",
    "            \"pipeline\": [\n",
    "                {\n",
    "                    \"$match\": {\n",
    "                        \"$expr\": {\n",
    "                            \"$and\": [\n",
    "                                {\n",
    "                                    \"$eq\": ['$year', '$year'],\n",
    "                                },\n",
    "                                {\n",
    "                                    \"$eq\": ['$region', '$$region'],\n",
    "                                },\n",
    "                            ],\n",
    "                        },\n",
    "                    },\n",
    "                },\n",
    "                {\n",
    "                    \"$project\": {\n",
    "                        \"_id\": 0,\n",
    "                    },\n",
    "                },\n",
    "            ],\n",
    "            \"as\": 'deaths',\n",
    "        },\n",
    "    },\n",
    "    {\n",
    "        \"$group\": {\n",
    "            \"_id\": '$region',\n",
    "            \"births\": {\n",
    "                \"$push\": {\n",
    "                    \"year\": '$year',\n",
    "                    \"region\": '$region',\n",
    "                    \"count\": '$count',\n",
    "                },\n",
    "            },\n",
    "            \"deaths\": {\"$first\": '$deaths'},\n",
    "        },\n",
    "    },\n",
    "    {\n",
    "        \"$project\": {\n",
    "            \"region\": '$_id',\n",
    "            \"births\": '$births',\n",
    "            \"deaths\": '$deaths',\n",
    "        },\n",
    "    },\n",
    "    {\n",
    "        \"$project\": {\"_id\": 0},\n",
    "    },\n",
    "]\n",
    "\n",
    "combination_result = db.command('aggregate', 'births', pipeline=aggregate, explain=False)['cursor']['firstBatch']\n",
    "region.insert_many(combination_result)"
   ]
  },
  {
   "cell_type": "markdown",
   "metadata": {
    "collapsed": false
   },
   "source": [
    "# Creation d'un index"
   ]
  },
  {
   "cell_type": "code",
   "execution_count": 34,
   "metadata": {
    "collapsed": false
   },
   "outputs": [
    {
     "data": {
      "text/plain": [
       "'{\"region\":\"Northland region\"}_1'"
      ]
     },
     "execution_count": 34,
     "metadata": {},
     "output_type": "execute_result"
    }
   ],
   "source": [
    "region.create_index('{\"region\":\"Northland region\"}')"
   ]
  },
  {
   "cell_type": "markdown",
   "metadata": {
    "collapsed": false
   },
   "source": [
    "# affichage d'un index"
   ]
  },
  {
   "cell_type": "code",
   "execution_count": null,
   "metadata": {
    "collapsed": false
   },
   "outputs": [],
   "source": [
    "for x in region.list_indexes():\n",
    "    print(x)"
   ]
  }
 ],
 "metadata": {
  "kernelspec": {
   "display_name": "Python 3",
   "language": "python",
   "name": "python3"
  },
  "language_info": {
   "codemirror_mode": {
    "name": "ipython",
    "version": 2
   },
   "file_extension": ".py",
   "mimetype": "text/x-python",
   "name": "python",
   "nbconvert_exporter": "python",
   "pygments_lexer": "ipython2",
   "version": "2.7.6"
  }
 },
 "nbformat": 4,
 "nbformat_minor": 0
}
