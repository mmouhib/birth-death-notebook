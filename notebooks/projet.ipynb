{
 "cells": [
  {
   "cell_type": "markdown",
   "source": [
    "# importation\n",
    "importation des bibliotheques qu'on va utiliser"
   ],
   "metadata": {
    "collapsed": false
   }
  },
  {
   "cell_type": "code",
   "execution_count": 112,
   "outputs": [],
   "source": [
    "import csv\n",
    "from pymongo import MongoClient\n",
    "import matplotlib.pyplot as plt"
   ],
   "metadata": {
    "collapsed": false
   }
  },
  {
   "cell_type": "markdown",
   "source": [
    "# Traitement sur le fichier de donnees\n",
    "importation et conversion du contenu du fichier CSV en listes python"
   ],
   "metadata": {
    "collapsed": false
   }
  },
  {
   "cell_type": "code",
   "execution_count": 113,
   "outputs": [
    {
     "name": "stdout",
     "output_type": "stream",
     "text": [
      "[['2005', 'Births', 'Northland region', '2067'], ['2005', 'Births', 'Auckland region', '20745'], ['2005', 'Births', 'Waikato region', '5667'], ['2005', 'Births', 'Bay of Plenty region', '3771'], ['2005', 'Births', 'Gisborne region', '777'], ['2005', 'Births', \"Hawke's Bay region\", '2115'], ['2005', 'Births', 'Taranaki region', '1410'], ['2005', 'Births', 'Manawatu-Wanganui region', '3093'], ['2005', 'Births', 'Wellington region', '6225'], ['2005', 'Births', 'Tasman region', '513'], ['2005', 'Births', 'Nelson region', '519'], ['2005', 'Births', 'Marlborough region', '471'], ['2005', 'Births', 'West Coast region', '336'], ['2005', 'Births', 'Canterbury region', '6603'], ['2005', 'Births', 'Otago region', '2151'], ['2005', 'Births', 'Southland region', '1212'], ['2005', 'Births', 'Region not stated or area outside region', '57'], ['2005', 'Births', 'New Zealand', '57747'], ['2005', 'Deaths', 'Northland region', '1167'], ['2005', 'Deaths', 'Auckland region', '6873'], ['2005', 'Deaths', 'Waikato region', '2520'], ['2005', 'Deaths', 'Bay of Plenty region', '1956'], ['2005', 'Deaths', 'Gisborne region', '375'], ['2005', 'Deaths', \"Hawke's Bay region\", '1278'], ['2005', 'Deaths', 'Taranaki region', '909'], ['2005', 'Deaths', 'Manawatu-Wanganui region', '1836'], ['2005', 'Deaths', 'Wellington region', '2745'], ['2005', 'Deaths', 'Tasman region', '315'], ['2005', 'Deaths', 'Nelson region', '345'], ['2005', 'Deaths', 'Marlborough region', '372'], ['2005', 'Deaths', 'West Coast region', '243'], ['2005', 'Deaths', 'Canterbury region', '3816'], ['2005', 'Deaths', 'Otago region', '1428'], ['2005', 'Deaths', 'Southland region', '723'], ['2005', 'Deaths', 'Region not stated or area outside region', '129'], ['2005', 'Deaths', 'New Zealand', '27033'], ['2006', 'Births', 'Northland region', '2244'], ['2006', 'Births', 'Auckland region', '21333'], ['2006', 'Births', 'Waikato region', '5592'], ['2006', 'Births', 'Bay of Plenty region', '3840'], ['2006', 'Births', 'Gisborne region', '720'], ['2006', 'Births', \"Hawke's Bay region\", '2163'], ['2006', 'Births', 'Taranaki region', '1455'], ['2006', 'Births', 'Manawatu-Wanganui region', '3165'], ['2006', 'Births', 'Wellington region', '6441'], ['2006', 'Births', 'Tasman region', '549'], ['2006', 'Births', 'Nelson region', '522'], ['2006', 'Births', 'Marlborough region', '486'], ['2006', 'Births', 'West Coast region', '390'], ['2006', 'Births', 'Canterbury region', '6777'], ['2006', 'Births', 'Otago region', '2148'], ['2006', 'Births', 'Southland region', '1233'], ['2006', 'Births', 'Region not stated or area outside region', '135'], ['2006', 'Births', 'New Zealand', '59193'], ['2006', 'Deaths', 'Northland region', '1164'], ['2006', 'Deaths', 'Auckland region', '7152'], ['2006', 'Deaths', 'Waikato region', '2754'], ['2006', 'Deaths', 'Bay of Plenty region', '2151'], ['2006', 'Deaths', 'Gisborne region', '438'], ['2006', 'Deaths', \"Hawke's Bay region\", '1251'], ['2006', 'Deaths', 'Taranaki region', '858'], ['2006', 'Deaths', 'Manawatu-Wanganui region', '1965'], ['2006', 'Deaths', 'Wellington region', '2826'], ['2006', 'Deaths', 'Tasman region', '342'], ['2006', 'Deaths', 'Nelson region', '366'], ['2006', 'Deaths', 'Marlborough region', '360'], ['2006', 'Deaths', 'West Coast region', '240'], ['2006', 'Deaths', 'Canterbury region', '4014'], ['2006', 'Deaths', 'Otago region', '1458'], ['2006', 'Deaths', 'Southland region', '765'], ['2006', 'Deaths', 'Region not stated or area outside region', '135'], ['2006', 'Deaths', 'New Zealand', '28245'], ['2007', 'Births', 'Northland region', '2322'], ['2007', 'Births', 'Auckland region', '23007'], ['2007', 'Births', 'Waikato region', '6231'], ['2007', 'Births', 'Bay of Plenty region', '4053'], ['2007', 'Births', 'Gisborne region', '801'], ['2007', 'Births', \"Hawke's Bay region\", '2319'], ['2007', 'Births', 'Taranaki region', '1611'], ['2007', 'Births', 'Manawatu-Wanganui region', '3297'], ['2007', 'Births', 'Wellington region', '6876'], ['2007', 'Births', 'Tasman region', '552'], ['2007', 'Births', 'Nelson region', '639'], ['2007', 'Births', 'Marlborough region', '513'], ['2007', 'Births', 'West Coast region', '405'], ['2007', 'Births', 'Canterbury region', '7548'], ['2007', 'Births', 'Otago region', '2349'], ['2007', 'Births', 'Southland region', '1350'], ['2007', 'Births', 'Region not stated or area outside region', '174'], ['2007', 'Births', 'New Zealand', '64044'], ['2007', 'Deaths', 'Northland region', '1224'], ['2007', 'Deaths', 'Auckland region', '7218'], ['2007', 'Deaths', 'Waikato region', '2787'], ['2007', 'Deaths', 'Bay of Plenty region', '2139'], ['2007', 'Deaths', 'Gisborne region', '378'], ['2007', 'Deaths', \"Hawke's Bay region\", '1281'], ['2007', 'Deaths', 'Taranaki region', '939'], ['2007', 'Deaths', 'Manawatu-Wanganui region', '1812'], ['2007', 'Deaths', 'Wellington region', '2865'], ['2007', 'Deaths', 'Tasman region', '324'], ['2007', 'Deaths', 'Nelson region', '381'], ['2007', 'Deaths', 'Marlborough region', '366'], ['2007', 'Deaths', 'West Coast region', '255'], ['2007', 'Deaths', 'Canterbury region', '4107'], ['2007', 'Deaths', 'Otago region', '1530'], ['2007', 'Deaths', 'Southland region', '783'], ['2007', 'Deaths', 'Region not stated or area outside region', '132'], ['2007', 'Deaths', 'New Zealand', '28521'], ['2008', 'Births', 'Northland region', '2304'], ['2008', 'Births', 'Auckland region', '23112'], ['2008', 'Births', 'Waikato region', '6423'], ['2008', 'Births', 'Bay of Plenty region', '4116'], ['2008', 'Births', 'Gisborne region', '828'], ['2008', 'Births', \"Hawke's Bay region\", '2358'], ['2008', 'Births', 'Taranaki region', '1596'], ['2008', 'Births', 'Manawatu-Wanganui region', '3372'], ['2008', 'Births', 'Wellington region', '6972'], ['2008', 'Births', 'Tasman region', '558'], ['2008', 'Births', 'Nelson region', '627'], ['2008', 'Births', 'Marlborough region', '570'], ['2008', 'Births', 'West Coast region', '453'], ['2008', 'Births', 'Canterbury region', '7284'], ['2008', 'Births', 'Otago region', '2367'], ['2008', 'Births', 'Southland region', '1338'], ['2008', 'Births', 'Region not stated or area outside region', '63'], ['2008', 'Births', 'New Zealand', '64344'], ['2008', 'Deaths', 'Northland region', '1344'], ['2008', 'Deaths', 'Auckland region', '7404'], ['2008', 'Deaths', 'Waikato region', '2871'], ['2008', 'Deaths', 'Bay of Plenty region', '2241'], ['2008', 'Deaths', 'Gisborne region', '387'], ['2008', 'Deaths', \"Hawke's Bay region\", '1200'], ['2008', 'Deaths', 'Taranaki region', '912'], ['2008', 'Deaths', 'Manawatu-Wanganui region', '1920'], ['2008', 'Deaths', 'Wellington region', '3015'], ['2008', 'Deaths', 'Tasman region', '297'], ['2008', 'Deaths', 'Nelson region', '411'], ['2008', 'Deaths', 'Marlborough region', '381'], ['2008', 'Deaths', 'West Coast region', '273'], ['2008', 'Deaths', 'Canterbury region', '4017'], ['2008', 'Deaths', 'Otago region', '1617'], ['2008', 'Deaths', 'Southland region', '786'], ['2008', 'Deaths', 'Region not stated or area outside region', '108'], ['2008', 'Deaths', 'New Zealand', '29190'], ['2009', 'Births', 'Northland region', '2199'], ['2009', 'Births', 'Auckland region', '22605'], ['2009', 'Births', 'Waikato region', '6147'], ['2009', 'Births', 'Bay of Plenty region', '3939'], ['2009', 'Births', 'Gisborne region', '729'], ['2009', 'Births', \"Hawke's Bay region\", '2352'], ['2009', 'Births', 'Taranaki region', '1587'], ['2009', 'Births', 'Manawatu-Wanganui region', '3153'], ['2009', 'Births', 'Wellington region', '6792'], ['2009', 'Births', 'Tasman region', '498'], ['2009', 'Births', 'Nelson region', '603'], ['2009', 'Births', 'Marlborough region', '552'], ['2009', 'Births', 'West Coast region', '432'], ['2009', 'Births', 'Canterbury region', '7161'], ['2009', 'Births', 'Otago region', '2352'], ['2009', 'Births', 'Southland region', '1356'], ['2009', 'Births', 'Region not stated or area outside region', '90'], ['2009', 'Births', 'New Zealand', '62544'], ['2009', 'Deaths', 'Northland region', '1287'], ['2009', 'Deaths', 'Auckland region', '7386'], ['2009', 'Deaths', 'Waikato region', '2760'], ['2009', 'Deaths', 'Bay of Plenty region', '2226'], ['2009', 'Deaths', 'Gisborne region', '360'], ['2009', 'Deaths', \"Hawke's Bay region\", '1251'], ['2009', 'Deaths', 'Taranaki region', '897'], ['2009', 'Deaths', 'Manawatu-Wanganui region', '1941'], ['2009', 'Deaths', 'Wellington region', '2955'], ['2009', 'Deaths', 'Tasman region', '300'], ['2009', 'Deaths', 'Nelson region', '360'], ['2009', 'Deaths', 'Marlborough region', '378'], ['2009', 'Deaths', 'West Coast region', '264'], ['2009', 'Deaths', 'Canterbury region', '4206'], ['2009', 'Deaths', 'Otago region', '1560'], ['2009', 'Deaths', 'Southland region', '765'], ['2009', 'Deaths', 'Region not stated or area outside region', '66'], ['2009', 'Deaths', 'New Zealand', '28962'], ['2010', 'Births', 'Northland region', '2397'], ['2010', 'Births', 'Auckland region', '23214'], ['2010', 'Births', 'Waikato region', '6324'], ['2010', 'Births', 'Bay of Plenty region', '3957'], ['2010', 'Births', 'Gisborne region', '783'], ['2010', 'Births', \"Hawke's Bay region\", '2286'], ['2010', 'Births', 'Taranaki region', '1596'], ['2010', 'Births', 'Manawatu-Wanganui region', '3297'], ['2010', 'Births', 'Wellington region', '6771'], ['2010', 'Births', 'Tasman region', '543'], ['2010', 'Births', 'Nelson region', '603'], ['2010', 'Births', 'Marlborough region', '573'], ['2010', 'Births', 'West Coast region', '429'], ['2010', 'Births', 'Canterbury region', '7305'], ['2010', 'Births', 'Otago region', '2331'], ['2010', 'Births', 'Southland region', '1404'], ['2010', 'Births', 'Region not stated or area outside region', '81'], ['2010', 'Births', 'New Zealand', '63897'], ['2010', 'Deaths', 'Northland region', '1233'], ['2010', 'Deaths', 'Auckland region', '7227'], ['2010', 'Deaths', 'Waikato region', '2772'], ['2010', 'Deaths', 'Bay of Plenty region', '2139'], ['2010', 'Deaths', 'Gisborne region', '381'], ['2010', 'Deaths', \"Hawke's Bay region\", '1206'], ['2010', 'Deaths', 'Taranaki region', '909'], ['2010', 'Deaths', 'Manawatu-Wanganui region', '1905'], ['2010', 'Deaths', 'Wellington region', '2916'], ['2010', 'Deaths', 'Tasman region', '309'], ['2010', 'Deaths', 'Nelson region', '372'], ['2010', 'Deaths', 'Marlborough region', '360'], ['2010', 'Deaths', 'West Coast region', '249'], ['2010', 'Deaths', 'Canterbury region', '4272'], ['2010', 'Deaths', 'Otago region', '1392'], ['2010', 'Deaths', 'Southland region', '744'], ['2010', 'Deaths', 'Region not stated or area outside region', '48'], ['2010', 'Deaths', 'New Zealand', '28437'], ['2011', 'Births', 'Northland region', '2199'], ['2011', 'Births', 'Auckland region', '22659'], ['2011', 'Births', 'Waikato region', '5916'], ['2011', 'Births', 'Bay of Plenty region', '3951'], ['2011', 'Births', 'Gisborne region', '738'], ['2011', 'Births', \"Hawke's Bay region\", '2226'], ['2011', 'Births', 'Taranaki region', '1554'], ['2011', 'Births', 'Manawatu-Wanganui region', '3171'], ['2011', 'Births', 'Wellington region', '6528'], ['2011', 'Births', 'Tasman region', '501'], ['2011', 'Births', 'Nelson region', '600'], ['2011', 'Births', 'Marlborough region', '540'], ['2011', 'Births', 'West Coast region', '432'], ['2011', 'Births', 'Canterbury region', '6693'], ['2011', 'Births', 'Otago region', '2340'], ['2011', 'Births', 'Southland region', '1332'], ['2011', 'Births', 'Region not stated or area outside region', '24'], ['2011', 'Births', 'New Zealand', '61401'], ['2011', 'Deaths', 'Northland region', '1365'], ['2011', 'Deaths', 'Auckland region', '7692'], ['2011', 'Deaths', 'Waikato region', '2937'], ['2011', 'Deaths', 'Bay of Plenty region', '2202'], ['2011', 'Deaths', 'Gisborne region', '366'], ['2011', 'Deaths', \"Hawke's Bay region\", '1269'], ['2011', 'Deaths', 'Taranaki region', '978'], ['2011', 'Deaths', 'Manawatu-Wanganui region', '1911'], ['2011', 'Deaths', 'Wellington region', '3123'], ['2011', 'Deaths', 'Tasman region', '348'], ['2011', 'Deaths', 'Nelson region', '375'], ['2011', 'Deaths', 'Marlborough region', '378'], ['2011', 'Deaths', 'West Coast region', '291'], ['2011', 'Deaths', 'Canterbury region', '4473'], ['2011', 'Deaths', 'Otago region', '1542'], ['2011', 'Deaths', 'Southland region', '807'], ['2011', 'Deaths', 'Region not stated or area outside region', '27'], ['2011', 'Deaths', 'New Zealand', '30081'], ['2012', 'Births', 'Northland region', '2310'], ['2012', 'Births', 'Auckland region', '22836'], ['2012', 'Births', 'Waikato region', '6051'], ['2012', 'Births', 'Bay of Plenty region', '3876'], ['2012', 'Births', 'Gisborne region', '708'], ['2012', 'Births', \"Hawke's Bay region\", '2238'], ['2012', 'Births', 'Taranaki region', '1533'], ['2012', 'Births', 'Manawatu-Wanganui region', '3015'], ['2012', 'Births', 'Wellington region', '6435'], ['2012', 'Births', 'Tasman region', '477'], ['2012', 'Births', 'Nelson region', '546'], ['2012', 'Births', 'Marlborough region', '507'], ['2012', 'Births', 'West Coast region', '417'], ['2012', 'Births', 'Canterbury region', '6633'], ['2012', 'Births', 'Otago region', '2337'], ['2012', 'Births', 'Southland region', '1245'], ['2012', 'Births', 'Region not stated or area outside region', '18'], ['2012', 'Births', 'New Zealand', '61179'], ['2012', 'Deaths', 'Northland region', '1374'], ['2012', 'Deaths', 'Auckland region', '7665'], ['2012', 'Deaths', 'Waikato region', '2931'], ['2012', 'Deaths', 'Bay of Plenty region', '2211'], ['2012', 'Deaths', 'Gisborne region', '396'], ['2012', 'Deaths', \"Hawke's Bay region\", '1326'], ['2012', 'Deaths', 'Taranaki region', '948'], ['2012', 'Deaths', 'Manawatu-Wanganui region', '1920'], ['2012', 'Deaths', 'Wellington region', '3123'], ['2012', 'Deaths', 'Tasman region', '342'], ['2012', 'Deaths', 'Nelson region', '417'], ['2012', 'Deaths', 'Marlborough region', '393'], ['2012', 'Deaths', 'West Coast region', '252'], ['2012', 'Deaths', 'Canterbury region', '4359'], ['2012', 'Deaths', 'Otago region', '1635'], ['2012', 'Deaths', 'Southland region', '783'], ['2012', 'Deaths', 'Region not stated or area outside region', '21'], ['2012', 'Deaths', 'New Zealand', '30099'], ['2013', 'Births', 'Northland region', '2124'], ['2013', 'Births', 'Auckland region', '21825'], ['2013', 'Births', 'Waikato region', '5745'], ['2013', 'Births', 'Bay of Plenty region', '3696'], ['2013', 'Births', 'Gisborne region', '699'], ['2013', 'Births', \"Hawke's Bay region\", '2160'], ['2013', 'Births', 'Taranaki region', '1503'], ['2013', 'Births', 'Manawatu-Wanganui region', '2985'], ['2013', 'Births', 'Wellington region', '6057'], ['2013', 'Births', 'Tasman region', '486'], ['2013', 'Births', 'Nelson region', '555'], ['2013', 'Births', 'Marlborough region', '504'], ['2013', 'Births', 'West Coast region', '384'], ['2013', 'Births', 'Canterbury region', '6543'], ['2013', 'Births', 'Otago region', '2235'], ['2013', 'Births', 'Southland region', '1200'], ['2013', 'Births', 'Region not stated or area outside region', '12'], ['2013', 'Births', 'New Zealand', '58716'], ['2013', 'Deaths', 'Northland region', '1365'], ['2013', 'Deaths', 'Auckland region', '7566'], ['2013', 'Deaths', 'Waikato region', '2919'], ['2013', 'Deaths', 'Bay of Plenty region', '2238'], ['2013', 'Deaths', 'Gisborne region', '399'], ['2013', 'Deaths', \"Hawke's Bay region\", '1269'], ['2013', 'Deaths', 'Taranaki region', '888'], ['2013', 'Deaths', 'Manawatu-Wanganui region', '1947'], ['2013', 'Deaths', 'Wellington region', '3024'], ['2013', 'Deaths', 'Tasman region', '372'], ['2013', 'Deaths', 'Nelson region', '411'], ['2013', 'Deaths', 'Marlborough region', '396'], ['2013', 'Deaths', 'West Coast region', '291'], ['2013', 'Deaths', 'Canterbury region', '4098'], ['2013', 'Deaths', 'Otago region', '1581'], ['2013', 'Deaths', 'Southland region', '780'], ['2013', 'Deaths', 'Region not stated or area outside region', '24'], ['2013', 'Deaths', 'New Zealand', '29568'], ['2014', 'Births', 'Northland region', '2049'], ['2014', 'Births', 'Auckland region', '21429'], ['2014', 'Births', 'Waikato region', '5688'], ['2014', 'Births', 'Bay of Plenty region', '3504'], ['2014', 'Births', 'Gisborne region', '651'], ['2014', 'Births', \"Hawke's Bay region\", '2037'], ['2014', 'Births', 'Taranaki region', '1506'], ['2014', 'Births', 'Manawatu-Wanganui region', '2865'], ['2014', 'Births', 'Wellington region', '5889'], ['2014', 'Births', 'Tasman region', '411'], ['2014', 'Births', 'Nelson region', '534'], ['2014', 'Births', 'Marlborough region', '486'], ['2014', 'Births', 'West Coast region', '375'], ['2014', 'Births', 'Canterbury region', '6573'], ['2014', 'Births', 'Otago region', '2088'], ['2014', 'Births', 'Southland region', '1134'], ['2014', 'Births', 'Region not stated or area outside region', '21'], ['2014', 'Births', 'New Zealand', '57243'], ['2014', 'Deaths', 'Northland region', '1377'], ['2014', 'Deaths', 'Auckland region', '8034'], ['2014', 'Deaths', 'Waikato region', '2955'], ['2014', 'Deaths', 'Bay of Plenty region', '2352'], ['2014', 'Deaths', 'Gisborne region', '387'], ['2014', 'Deaths', \"Hawke's Bay region\", '1377'], ['2014', 'Deaths', 'Taranaki region', '963'], ['2014', 'Deaths', 'Manawatu-Wanganui region', '2064'], ['2014', 'Deaths', 'Wellington region', '3186'], ['2014', 'Deaths', 'Tasman region', '339'], ['2014', 'Deaths', 'Nelson region', '402'], ['2014', 'Deaths', 'Marlborough region', '381'], ['2014', 'Deaths', 'West Coast region', '279'], ['2014', 'Deaths', 'Canterbury region', '4422'], ['2014', 'Deaths', 'Otago region', '1689'], ['2014', 'Deaths', 'Southland region', '816'], ['2014', 'Deaths', 'Region not stated or area outside region', '42'], ['2014', 'Deaths', 'New Zealand', '31062'], ['2015', 'Births', 'Northland region', '2196'], ['2015', 'Births', 'Auckland region', '22434'], ['2015', 'Births', 'Waikato region', '6234'], ['2015', 'Births', 'Bay of Plenty region', '3879'], ['2015', 'Births', 'Gisborne region', '717'], ['2015', 'Births', \"Hawke's Bay region\", '2145'], ['2015', 'Births', 'Taranaki region', '1611'], ['2015', 'Births', 'Manawatu-Wanganui region', '3072'], ['2015', 'Births', 'Wellington region', '6231'], ['2015', 'Births', 'Tasman region', '447'], ['2015', 'Births', 'Nelson region', '534'], ['2015', 'Births', 'Marlborough region', '489'], ['2015', 'Births', 'West Coast region', '381'], ['2015', 'Births', 'Canterbury region', '7077'], ['2015', 'Births', 'Otago region', '2358'], ['2015', 'Births', 'Southland region', '1224'], ['2015', 'Births', 'Region not stated or area outside region', '12'], ['2015', 'Births', 'New Zealand', '61038'], ['2015', 'Deaths', 'Northland region', '1443'], ['2015', 'Deaths', 'Auckland region', '8175'], ['2015', 'Deaths', 'Waikato region', '3105'], ['2015', 'Deaths', 'Bay of Plenty region', '2517'], ['2015', 'Deaths', 'Gisborne region', '351'], ['2015', 'Deaths', \"Hawke's Bay region\", '1467'], ['2015', 'Deaths', 'Taranaki region', '1008'], ['2015', 'Deaths', 'Manawatu-Wanganui region', '2016'], ['2015', 'Deaths', 'Wellington region', '3150'], ['2015', 'Deaths', 'Tasman region', '375'], ['2015', 'Deaths', 'Nelson region', '447'], ['2015', 'Deaths', 'Marlborough region', '411'], ['2015', 'Deaths', 'West Coast region', '294'], ['2015', 'Deaths', 'Canterbury region', '4305'], ['2015', 'Deaths', 'Otago region', '1641'], ['2015', 'Deaths', 'Southland region', '879'], ['2015', 'Deaths', 'Region not stated or area outside region', '24'], ['2015', 'Deaths', 'New Zealand', '31608'], ['2016', 'Births', 'Northland region', '2229'], ['2016', 'Births', 'Auckland region', '21810'], ['2016', 'Births', 'Waikato region', '6066'], ['2016', 'Births', 'Bay of Plenty region', '3864'], ['2016', 'Births', 'Gisborne region', '738'], ['2016', 'Births', \"Hawke's Bay region\", '2058'], ['2016', 'Births', 'Taranaki region', '1473'], ['2016', 'Births', 'Manawatu-Wanganui region', '2928'], ['2016', 'Births', 'Wellington region', '6015'], ['2016', 'Births', 'Tasman region', '453'], ['2016', 'Births', 'Nelson region', '540'], ['2016', 'Births', 'Marlborough region', '534'], ['2016', 'Births', 'West Coast region', '324'], ['2016', 'Births', 'Canterbury region', '7014'], ['2016', 'Births', 'Otago region', '2199'], ['2016', 'Births', 'Southland region', '1161'], ['2016', 'Births', 'Region not stated or area outside region', '15'], ['2016', 'Births', 'New Zealand', '59427'], ['2016', 'Deaths', 'Northland region', '1563'], ['2016', 'Deaths', 'Auckland region', '8007'], ['2016', 'Deaths', 'Waikato region', '3066'], ['2016', 'Deaths', 'Bay of Plenty region', '2403'], ['2016', 'Deaths', 'Gisborne region', '378'], ['2016', 'Deaths', \"Hawke's Bay region\", '1368'], ['2016', 'Deaths', 'Taranaki region', '981'], ['2016', 'Deaths', 'Manawatu-Wanganui region', '2082'], ['2016', 'Deaths', 'Wellington region', '3237'], ['2016', 'Deaths', 'Tasman region', '384'], ['2016', 'Deaths', 'Nelson region', '447'], ['2016', 'Deaths', 'Marlborough region', '426'], ['2016', 'Deaths', 'West Coast region', '267'], ['2016', 'Deaths', 'Canterbury region', '4158'], ['2016', 'Deaths', 'Otago region', '1536'], ['2016', 'Deaths', 'Southland region', '855'], ['2016', 'Deaths', 'Region not stated or area outside region', '24'], ['2016', 'Deaths', 'New Zealand', '31179'], ['2017', 'Births', 'Northland region', '2247'], ['2017', 'Births', 'Auckland region', '21393'], ['2017', 'Births', 'Waikato region', '6204'], ['2017', 'Births', 'Bay of Plenty region', '4086'], ['2017', 'Births', 'Gisborne region', '705'], ['2017', 'Births', \"Hawke's Bay region\", '2127'], ['2017', 'Births', 'Taranaki region', '1389'], ['2017', 'Births', 'Manawatu-Wanganui region', '3045'], ['2017', 'Births', 'Wellington region', '6057'], ['2017', 'Births', 'Tasman region', '459'], ['2017', 'Births', 'Nelson region', '504'], ['2017', 'Births', 'Marlborough region', '495'], ['2017', 'Births', 'West Coast region', '363'], ['2017', 'Births', 'Canterbury region', '7065'], ['2017', 'Births', 'Otago region', '2241'], ['2017', 'Births', 'Southland region', '1215'], ['2017', 'Births', 'Region not stated or area outside region', '15'], ['2017', 'Births', 'New Zealand', '59610'], ['2017', 'Deaths', 'Northland region', '1611'], ['2017', 'Deaths', 'Auckland region', '8577'], ['2017', 'Deaths', 'Waikato region', '3378'], ['2017', 'Deaths', 'Bay of Plenty region', '2676'], ['2017', 'Deaths', 'Gisborne region', '432'], ['2017', 'Deaths', \"Hawke's Bay region\", '1527'], ['2017', 'Deaths', 'Taranaki region', '1017'], ['2017', 'Deaths', 'Manawatu-Wanganui region', '2262'], ['2017', 'Deaths', 'Wellington region', '3300'], ['2017', 'Deaths', 'Tasman region', '372'], ['2017', 'Deaths', 'Nelson region', '468'], ['2017', 'Deaths', 'Marlborough region', '405'], ['2017', 'Deaths', 'West Coast region', '309'], ['2017', 'Deaths', 'Canterbury region', '4494'], ['2017', 'Deaths', 'Otago region', '1647'], ['2017', 'Deaths', 'Southland region', '849'], ['2017', 'Deaths', 'Region not stated or area outside region', '21'], ['2017', 'Deaths', 'New Zealand', '33342'], ['2018', 'Births', 'Northland region', '2181'], ['2018', 'Births', 'Auckland region', '20712'], ['2018', 'Births', 'Waikato region', '6054'], ['2018', 'Births', 'Bay of Plenty region', '3969'], ['2018', 'Births', 'Gisborne region', '711'], ['2018', 'Births', \"Hawke's Bay region\", '2070'], ['2018', 'Births', 'Taranaki region', '1548'], ['2018', 'Births', 'Manawatu-Wanganui region', '3024'], ['2018', 'Births', 'Wellington region', '5706'], ['2018', 'Births', 'Tasman region', '447'], ['2018', 'Births', 'Nelson region', '540'], ['2018', 'Births', 'Marlborough region', '504'], ['2018', 'Births', 'West Coast region', '324'], ['2018', 'Births', 'Canterbury region', '6939'], ['2018', 'Births', 'Otago region', '2148'], ['2018', 'Births', 'Southland region', '1119'], ['2018', 'Births', 'Region not stated or area outside region', '18'], ['2018', 'Births', 'New Zealand', '58020'], ['2018', 'Deaths', 'Northland region', '1692'], ['2018', 'Deaths', 'Auckland region', '8586'], ['2018', 'Deaths', 'Waikato region', '3420'], ['2018', 'Deaths', 'Bay of Plenty region', '2583'], ['2018', 'Deaths', 'Gisborne region', '429'], ['2018', 'Deaths', \"Hawke's Bay region\", '1515'], ['2018', 'Deaths', 'Taranaki region', '1026'], ['2018', 'Deaths', 'Manawatu-Wanganui region', '2190'], ['2018', 'Deaths', 'Wellington region', '3330'], ['2018', 'Deaths', 'Tasman region', '402'], ['2018', 'Deaths', 'Nelson region', '441'], ['2018', 'Deaths', 'Marlborough region', '450'], ['2018', 'Deaths', 'West Coast region', '291'], ['2018', 'Deaths', 'Canterbury region', '4431'], ['2018', 'Deaths', 'Otago region', '1626'], ['2018', 'Deaths', 'Southland region', '804'], ['2018', 'Deaths', 'Region not stated or area outside region', '15'], ['2018', 'Deaths', 'New Zealand', '33225'], ['2019', 'Births', 'Northland region', '2250'], ['2019', 'Births', 'Auckland region', '21405'], ['2019', 'Births', 'Waikato region', '6237'], ['2019', 'Births', 'Bay of Plenty region', '4047'], ['2019', 'Births', 'Gisborne region', '675'], ['2019', 'Births', \"Hawke's Bay region\", '2037'], ['2019', 'Births', 'Taranaki region', '1542'], ['2019', 'Births', 'Manawatu-Wanganui region', '3057'], ['2019', 'Births', 'Wellington region', '5904'], ['2019', 'Births', 'Tasman region', '462'], ['2019', 'Births', 'Nelson region', '537'], ['2019', 'Births', 'Marlborough region', '480'], ['2019', 'Births', 'West Coast region', '354'], ['2019', 'Births', 'Canterbury region', '7164'], ['2019', 'Births', 'Otago region', '2310'], ['2019', 'Births', 'Southland region', '1152'], ['2019', 'Births', 'Region not stated or area outside region', '21'], ['2019', 'Births', 'New Zealand', '59637'], ['2019', 'Deaths', 'Northland region', '1662'], ['2019', 'Deaths', 'Auckland region', '8619'], ['2019', 'Deaths', 'Waikato region', '3393'], ['2019', 'Deaths', 'Bay of Plenty region', '2787'], ['2019', 'Deaths', 'Gisborne region', '456'], ['2019', 'Deaths', \"Hawke's Bay region\", '1584'], ['2019', 'Deaths', 'Taranaki region', '1041'], ['2019', 'Deaths', 'Manawatu-Wanganui region', '2178'], ['2019', 'Deaths', 'Wellington region', '3693'], ['2019', 'Deaths', 'Tasman region', '450'], ['2019', 'Deaths', 'Nelson region', '474'], ['2019', 'Deaths', 'Marlborough region', '414'], ['2019', 'Deaths', 'West Coast region', '300'], ['2019', 'Deaths', 'Canterbury region', '4608'], ['2019', 'Deaths', 'Otago region', '1695'], ['2019', 'Deaths', 'Southland region', '888'], ['2019', 'Deaths', 'Region not stated or area outside region', '21'], ['2019', 'Deaths', 'New Zealand', '34260'], ['2020', 'Births', 'Northland region', '2244'], ['2020', 'Births', 'Auckland region', '20385'], ['2020', 'Births', 'Waikato region', '6195'], ['2020', 'Births', 'Bay of Plenty region', '4005'], ['2020', 'Births', 'Gisborne region', '663'], ['2020', 'Births', \"Hawke's Bay region\", '2079'], ['2020', 'Births', 'Taranaki region', '1467'], ['2020', 'Births', 'Manawatu-Wanganui region', '2976'], ['2020', 'Births', 'Wellington region', '5691'], ['2020', 'Births', 'Tasman region', '474'], ['2020', 'Births', 'Nelson region', '477'], ['2020', 'Births', 'Marlborough region', '477'], ['2020', 'Births', 'West Coast region', '312'], ['2020', 'Births', 'Canterbury region', '6780'], ['2020', 'Births', 'Otago region', '2238'], ['2020', 'Births', 'Southland region', '1083'], ['2020', 'Births', 'Region not stated or area outside region', '18'], ['2020', 'Births', 'New Zealand', '57576'], ['2020', 'Deaths', 'Northland region', '1644'], ['2020', 'Deaths', 'Auckland region', '8328'], ['2020', 'Deaths', 'Waikato region', '3357'], ['2020', 'Deaths', 'Bay of Plenty region', '2526'], ['2020', 'Deaths', 'Gisborne region', '393'], ['2020', 'Deaths', \"Hawke's Bay region\", '1440'], ['2020', 'Deaths', 'Taranaki region', '1002'], ['2020', 'Deaths', 'Manawatu-Wanganui region', '2052'], ['2020', 'Deaths', 'Wellington region', '3282'], ['2020', 'Deaths', 'Tasman region', '366'], ['2020', 'Deaths', 'Nelson region', '444'], ['2020', 'Deaths', 'Marlborough region', '423'], ['2020', 'Deaths', 'West Coast region', '273'], ['2020', 'Deaths', 'Canterbury region', '4476'], ['2020', 'Deaths', 'Otago region', '1677'], ['2020', 'Deaths', 'Southland region', '894'], ['2020', 'Deaths', 'Region not stated or area outside region', '30'], ['2020', 'Deaths', 'New Zealand', '32613'], ['2021', 'Births', 'Northland region', '2262'], ['2021', 'Births', 'Auckland region', '20520'], ['2021', 'Births', 'Waikato region', '6330'], ['2021', 'Births', 'Bay of Plenty region', '4173'], ['2021', 'Births', 'Gisborne region', '675'], ['2021', 'Births', \"Hawke's Bay region\", '2127'], ['2021', 'Births', 'Taranaki region', '1488'], ['2021', 'Births', 'Manawatu-Wanganui region', '2952'], ['2021', 'Births', 'Wellington region', '5769'], ['2021', 'Births', 'Tasman region', '492'], ['2021', 'Births', 'Nelson region', '498'], ['2021', 'Births', 'Marlborough region', '486'], ['2021', 'Births', 'West Coast region', '333'], ['2021', 'Births', 'Canterbury region', '7158'], ['2021', 'Births', 'Otago region', '2325'], ['2021', 'Births', 'Southland region', '1059'], ['2021', 'Births', 'Region not stated or area outside region', '12'], ['2021', 'Births', 'New Zealand', '58659'], ['2021', 'Deaths', 'Northland region', '1722'], ['2021', 'Deaths', 'Auckland region', '8907'], ['2021', 'Deaths', 'Waikato region', '3600'], ['2021', 'Deaths', 'Bay of Plenty region', '2760'], ['2021', 'Deaths', 'Gisborne region', '393'], ['2021', 'Deaths', \"Hawke's Bay region\", '1548'], ['2021', 'Deaths', 'Taranaki region', '1035'], ['2021', 'Deaths', 'Manawatu-Wanganui region', '2295'], ['2021', 'Deaths', 'Wellington region', '3588'], ['2021', 'Deaths', 'Tasman region', '420'], ['2021', 'Deaths', 'Nelson region', '468'], ['2021', 'Deaths', 'Marlborough region', '471'], ['2021', 'Deaths', 'West Coast region', '336'], ['2021', 'Deaths', 'Canterbury region', '4689'], ['2021', 'Deaths', 'Otago region', '1764'], ['2021', 'Deaths', 'Southland region', '891'], ['2021', 'Deaths', 'Region not stated or area outside region', '39'], ['2021', 'Deaths', 'New Zealand', '34929']]\n"
     ]
    }
   ],
   "source": [
    "with open('../data/data.csv', encoding='utf-8-sig') as dataFile:\n",
    "    reader = csv.reader(dataFile)\n",
    "    data = []\n",
    "    for row in reader:\n",
    "        data.append(row)\n",
    "\n",
    "    # pour supprimer la ligne des titres\n",
    "    data.pop(0)\n",
    "    print(data)"
   ],
   "metadata": {
    "collapsed": false
   }
  },
  {
   "cell_type": "markdown",
   "source": [
    "# Filtrage\n",
    "Filtrer le contenu de fichier et le diviser en 2 categories: `Births` et `Deaths`"
   ],
   "metadata": {
    "collapsed": false
   }
  },
  {
   "cell_type": "code",
   "execution_count": 114,
   "outputs": [
    {
     "name": "stdout",
     "output_type": "stream",
     "text": [
      "[{'year': '2005', 'region': 'Northland region', 'count': '2067'}, {'year': '2005', 'region': 'Auckland region', 'count': '20745'}, {'year': '2005', 'region': 'Waikato region', 'count': '5667'}, {'year': '2005', 'region': 'Bay of Plenty region', 'count': '3771'}, {'year': '2005', 'region': 'Gisborne region', 'count': '777'}, {'year': '2005', 'region': \"Hawke's Bay region\", 'count': '2115'}, {'year': '2005', 'region': 'Taranaki region', 'count': '1410'}, {'year': '2005', 'region': 'Manawatu-Wanganui region', 'count': '3093'}, {'year': '2005', 'region': 'Wellington region', 'count': '6225'}, {'year': '2005', 'region': 'Tasman region', 'count': '513'}, {'year': '2005', 'region': 'Nelson region', 'count': '519'}, {'year': '2005', 'region': 'Marlborough region', 'count': '471'}, {'year': '2005', 'region': 'West Coast region', 'count': '336'}, {'year': '2005', 'region': 'Canterbury region', 'count': '6603'}, {'year': '2005', 'region': 'Otago region', 'count': '2151'}, {'year': '2005', 'region': 'Southland region', 'count': '1212'}, {'year': '2005', 'region': 'Region not stated or area outside region', 'count': '57'}, {'year': '2005', 'region': 'New Zealand', 'count': '57747'}, {'year': '2006', 'region': 'Northland region', 'count': '2244'}, {'year': '2006', 'region': 'Auckland region', 'count': '21333'}, {'year': '2006', 'region': 'Waikato region', 'count': '5592'}, {'year': '2006', 'region': 'Bay of Plenty region', 'count': '3840'}, {'year': '2006', 'region': 'Gisborne region', 'count': '720'}, {'year': '2006', 'region': \"Hawke's Bay region\", 'count': '2163'}, {'year': '2006', 'region': 'Taranaki region', 'count': '1455'}, {'year': '2006', 'region': 'Manawatu-Wanganui region', 'count': '3165'}, {'year': '2006', 'region': 'Wellington region', 'count': '6441'}, {'year': '2006', 'region': 'Tasman region', 'count': '549'}, {'year': '2006', 'region': 'Nelson region', 'count': '522'}, {'year': '2006', 'region': 'Marlborough region', 'count': '486'}, {'year': '2006', 'region': 'West Coast region', 'count': '390'}, {'year': '2006', 'region': 'Canterbury region', 'count': '6777'}, {'year': '2006', 'region': 'Otago region', 'count': '2148'}, {'year': '2006', 'region': 'Southland region', 'count': '1233'}, {'year': '2006', 'region': 'Region not stated or area outside region', 'count': '135'}, {'year': '2006', 'region': 'New Zealand', 'count': '59193'}, {'year': '2007', 'region': 'Northland region', 'count': '2322'}, {'year': '2007', 'region': 'Auckland region', 'count': '23007'}, {'year': '2007', 'region': 'Waikato region', 'count': '6231'}, {'year': '2007', 'region': 'Bay of Plenty region', 'count': '4053'}, {'year': '2007', 'region': 'Gisborne region', 'count': '801'}, {'year': '2007', 'region': \"Hawke's Bay region\", 'count': '2319'}, {'year': '2007', 'region': 'Taranaki region', 'count': '1611'}, {'year': '2007', 'region': 'Manawatu-Wanganui region', 'count': '3297'}, {'year': '2007', 'region': 'Wellington region', 'count': '6876'}, {'year': '2007', 'region': 'Tasman region', 'count': '552'}, {'year': '2007', 'region': 'Nelson region', 'count': '639'}, {'year': '2007', 'region': 'Marlborough region', 'count': '513'}, {'year': '2007', 'region': 'West Coast region', 'count': '405'}, {'year': '2007', 'region': 'Canterbury region', 'count': '7548'}, {'year': '2007', 'region': 'Otago region', 'count': '2349'}, {'year': '2007', 'region': 'Southland region', 'count': '1350'}, {'year': '2007', 'region': 'Region not stated or area outside region', 'count': '174'}, {'year': '2007', 'region': 'New Zealand', 'count': '64044'}, {'year': '2008', 'region': 'Northland region', 'count': '2304'}, {'year': '2008', 'region': 'Auckland region', 'count': '23112'}, {'year': '2008', 'region': 'Waikato region', 'count': '6423'}, {'year': '2008', 'region': 'Bay of Plenty region', 'count': '4116'}, {'year': '2008', 'region': 'Gisborne region', 'count': '828'}, {'year': '2008', 'region': \"Hawke's Bay region\", 'count': '2358'}, {'year': '2008', 'region': 'Taranaki region', 'count': '1596'}, {'year': '2008', 'region': 'Manawatu-Wanganui region', 'count': '3372'}, {'year': '2008', 'region': 'Wellington region', 'count': '6972'}, {'year': '2008', 'region': 'Tasman region', 'count': '558'}, {'year': '2008', 'region': 'Nelson region', 'count': '627'}, {'year': '2008', 'region': 'Marlborough region', 'count': '570'}, {'year': '2008', 'region': 'West Coast region', 'count': '453'}, {'year': '2008', 'region': 'Canterbury region', 'count': '7284'}, {'year': '2008', 'region': 'Otago region', 'count': '2367'}, {'year': '2008', 'region': 'Southland region', 'count': '1338'}, {'year': '2008', 'region': 'Region not stated or area outside region', 'count': '63'}, {'year': '2008', 'region': 'New Zealand', 'count': '64344'}, {'year': '2009', 'region': 'Northland region', 'count': '2199'}, {'year': '2009', 'region': 'Auckland region', 'count': '22605'}, {'year': '2009', 'region': 'Waikato region', 'count': '6147'}, {'year': '2009', 'region': 'Bay of Plenty region', 'count': '3939'}, {'year': '2009', 'region': 'Gisborne region', 'count': '729'}, {'year': '2009', 'region': \"Hawke's Bay region\", 'count': '2352'}, {'year': '2009', 'region': 'Taranaki region', 'count': '1587'}, {'year': '2009', 'region': 'Manawatu-Wanganui region', 'count': '3153'}, {'year': '2009', 'region': 'Wellington region', 'count': '6792'}, {'year': '2009', 'region': 'Tasman region', 'count': '498'}, {'year': '2009', 'region': 'Nelson region', 'count': '603'}, {'year': '2009', 'region': 'Marlborough region', 'count': '552'}, {'year': '2009', 'region': 'West Coast region', 'count': '432'}, {'year': '2009', 'region': 'Canterbury region', 'count': '7161'}, {'year': '2009', 'region': 'Otago region', 'count': '2352'}, {'year': '2009', 'region': 'Southland region', 'count': '1356'}, {'year': '2009', 'region': 'Region not stated or area outside region', 'count': '90'}, {'year': '2009', 'region': 'New Zealand', 'count': '62544'}, {'year': '2010', 'region': 'Northland region', 'count': '2397'}, {'year': '2010', 'region': 'Auckland region', 'count': '23214'}, {'year': '2010', 'region': 'Waikato region', 'count': '6324'}, {'year': '2010', 'region': 'Bay of Plenty region', 'count': '3957'}, {'year': '2010', 'region': 'Gisborne region', 'count': '783'}, {'year': '2010', 'region': \"Hawke's Bay region\", 'count': '2286'}, {'year': '2010', 'region': 'Taranaki region', 'count': '1596'}, {'year': '2010', 'region': 'Manawatu-Wanganui region', 'count': '3297'}, {'year': '2010', 'region': 'Wellington region', 'count': '6771'}, {'year': '2010', 'region': 'Tasman region', 'count': '543'}, {'year': '2010', 'region': 'Nelson region', 'count': '603'}, {'year': '2010', 'region': 'Marlborough region', 'count': '573'}, {'year': '2010', 'region': 'West Coast region', 'count': '429'}, {'year': '2010', 'region': 'Canterbury region', 'count': '7305'}, {'year': '2010', 'region': 'Otago region', 'count': '2331'}, {'year': '2010', 'region': 'Southland region', 'count': '1404'}, {'year': '2010', 'region': 'Region not stated or area outside region', 'count': '81'}, {'year': '2010', 'region': 'New Zealand', 'count': '63897'}, {'year': '2011', 'region': 'Northland region', 'count': '2199'}, {'year': '2011', 'region': 'Auckland region', 'count': '22659'}, {'year': '2011', 'region': 'Waikato region', 'count': '5916'}, {'year': '2011', 'region': 'Bay of Plenty region', 'count': '3951'}, {'year': '2011', 'region': 'Gisborne region', 'count': '738'}, {'year': '2011', 'region': \"Hawke's Bay region\", 'count': '2226'}, {'year': '2011', 'region': 'Taranaki region', 'count': '1554'}, {'year': '2011', 'region': 'Manawatu-Wanganui region', 'count': '3171'}, {'year': '2011', 'region': 'Wellington region', 'count': '6528'}, {'year': '2011', 'region': 'Tasman region', 'count': '501'}, {'year': '2011', 'region': 'Nelson region', 'count': '600'}, {'year': '2011', 'region': 'Marlborough region', 'count': '540'}, {'year': '2011', 'region': 'West Coast region', 'count': '432'}, {'year': '2011', 'region': 'Canterbury region', 'count': '6693'}, {'year': '2011', 'region': 'Otago region', 'count': '2340'}, {'year': '2011', 'region': 'Southland region', 'count': '1332'}, {'year': '2011', 'region': 'Region not stated or area outside region', 'count': '24'}, {'year': '2011', 'region': 'New Zealand', 'count': '61401'}, {'year': '2012', 'region': 'Northland region', 'count': '2310'}, {'year': '2012', 'region': 'Auckland region', 'count': '22836'}, {'year': '2012', 'region': 'Waikato region', 'count': '6051'}, {'year': '2012', 'region': 'Bay of Plenty region', 'count': '3876'}, {'year': '2012', 'region': 'Gisborne region', 'count': '708'}, {'year': '2012', 'region': \"Hawke's Bay region\", 'count': '2238'}, {'year': '2012', 'region': 'Taranaki region', 'count': '1533'}, {'year': '2012', 'region': 'Manawatu-Wanganui region', 'count': '3015'}, {'year': '2012', 'region': 'Wellington region', 'count': '6435'}, {'year': '2012', 'region': 'Tasman region', 'count': '477'}, {'year': '2012', 'region': 'Nelson region', 'count': '546'}, {'year': '2012', 'region': 'Marlborough region', 'count': '507'}, {'year': '2012', 'region': 'West Coast region', 'count': '417'}, {'year': '2012', 'region': 'Canterbury region', 'count': '6633'}, {'year': '2012', 'region': 'Otago region', 'count': '2337'}, {'year': '2012', 'region': 'Southland region', 'count': '1245'}, {'year': '2012', 'region': 'Region not stated or area outside region', 'count': '18'}, {'year': '2012', 'region': 'New Zealand', 'count': '61179'}, {'year': '2013', 'region': 'Northland region', 'count': '2124'}, {'year': '2013', 'region': 'Auckland region', 'count': '21825'}, {'year': '2013', 'region': 'Waikato region', 'count': '5745'}, {'year': '2013', 'region': 'Bay of Plenty region', 'count': '3696'}, {'year': '2013', 'region': 'Gisborne region', 'count': '699'}, {'year': '2013', 'region': \"Hawke's Bay region\", 'count': '2160'}, {'year': '2013', 'region': 'Taranaki region', 'count': '1503'}, {'year': '2013', 'region': 'Manawatu-Wanganui region', 'count': '2985'}, {'year': '2013', 'region': 'Wellington region', 'count': '6057'}, {'year': '2013', 'region': 'Tasman region', 'count': '486'}, {'year': '2013', 'region': 'Nelson region', 'count': '555'}, {'year': '2013', 'region': 'Marlborough region', 'count': '504'}, {'year': '2013', 'region': 'West Coast region', 'count': '384'}, {'year': '2013', 'region': 'Canterbury region', 'count': '6543'}, {'year': '2013', 'region': 'Otago region', 'count': '2235'}, {'year': '2013', 'region': 'Southland region', 'count': '1200'}, {'year': '2013', 'region': 'Region not stated or area outside region', 'count': '12'}, {'year': '2013', 'region': 'New Zealand', 'count': '58716'}, {'year': '2014', 'region': 'Northland region', 'count': '2049'}, {'year': '2014', 'region': 'Auckland region', 'count': '21429'}, {'year': '2014', 'region': 'Waikato region', 'count': '5688'}, {'year': '2014', 'region': 'Bay of Plenty region', 'count': '3504'}, {'year': '2014', 'region': 'Gisborne region', 'count': '651'}, {'year': '2014', 'region': \"Hawke's Bay region\", 'count': '2037'}, {'year': '2014', 'region': 'Taranaki region', 'count': '1506'}, {'year': '2014', 'region': 'Manawatu-Wanganui region', 'count': '2865'}, {'year': '2014', 'region': 'Wellington region', 'count': '5889'}, {'year': '2014', 'region': 'Tasman region', 'count': '411'}, {'year': '2014', 'region': 'Nelson region', 'count': '534'}, {'year': '2014', 'region': 'Marlborough region', 'count': '486'}, {'year': '2014', 'region': 'West Coast region', 'count': '375'}, {'year': '2014', 'region': 'Canterbury region', 'count': '6573'}, {'year': '2014', 'region': 'Otago region', 'count': '2088'}, {'year': '2014', 'region': 'Southland region', 'count': '1134'}, {'year': '2014', 'region': 'Region not stated or area outside region', 'count': '21'}, {'year': '2014', 'region': 'New Zealand', 'count': '57243'}, {'year': '2015', 'region': 'Northland region', 'count': '2196'}, {'year': '2015', 'region': 'Auckland region', 'count': '22434'}, {'year': '2015', 'region': 'Waikato region', 'count': '6234'}, {'year': '2015', 'region': 'Bay of Plenty region', 'count': '3879'}, {'year': '2015', 'region': 'Gisborne region', 'count': '717'}, {'year': '2015', 'region': \"Hawke's Bay region\", 'count': '2145'}, {'year': '2015', 'region': 'Taranaki region', 'count': '1611'}, {'year': '2015', 'region': 'Manawatu-Wanganui region', 'count': '3072'}, {'year': '2015', 'region': 'Wellington region', 'count': '6231'}, {'year': '2015', 'region': 'Tasman region', 'count': '447'}, {'year': '2015', 'region': 'Nelson region', 'count': '534'}, {'year': '2015', 'region': 'Marlborough region', 'count': '489'}, {'year': '2015', 'region': 'West Coast region', 'count': '381'}, {'year': '2015', 'region': 'Canterbury region', 'count': '7077'}, {'year': '2015', 'region': 'Otago region', 'count': '2358'}, {'year': '2015', 'region': 'Southland region', 'count': '1224'}, {'year': '2015', 'region': 'Region not stated or area outside region', 'count': '12'}, {'year': '2015', 'region': 'New Zealand', 'count': '61038'}, {'year': '2016', 'region': 'Northland region', 'count': '2229'}, {'year': '2016', 'region': 'Auckland region', 'count': '21810'}, {'year': '2016', 'region': 'Waikato region', 'count': '6066'}, {'year': '2016', 'region': 'Bay of Plenty region', 'count': '3864'}, {'year': '2016', 'region': 'Gisborne region', 'count': '738'}, {'year': '2016', 'region': \"Hawke's Bay region\", 'count': '2058'}, {'year': '2016', 'region': 'Taranaki region', 'count': '1473'}, {'year': '2016', 'region': 'Manawatu-Wanganui region', 'count': '2928'}, {'year': '2016', 'region': 'Wellington region', 'count': '6015'}, {'year': '2016', 'region': 'Tasman region', 'count': '453'}, {'year': '2016', 'region': 'Nelson region', 'count': '540'}, {'year': '2016', 'region': 'Marlborough region', 'count': '534'}, {'year': '2016', 'region': 'West Coast region', 'count': '324'}, {'year': '2016', 'region': 'Canterbury region', 'count': '7014'}, {'year': '2016', 'region': 'Otago region', 'count': '2199'}, {'year': '2016', 'region': 'Southland region', 'count': '1161'}, {'year': '2016', 'region': 'Region not stated or area outside region', 'count': '15'}, {'year': '2016', 'region': 'New Zealand', 'count': '59427'}, {'year': '2017', 'region': 'Northland region', 'count': '2247'}, {'year': '2017', 'region': 'Auckland region', 'count': '21393'}, {'year': '2017', 'region': 'Waikato region', 'count': '6204'}, {'year': '2017', 'region': 'Bay of Plenty region', 'count': '4086'}, {'year': '2017', 'region': 'Gisborne region', 'count': '705'}, {'year': '2017', 'region': \"Hawke's Bay region\", 'count': '2127'}, {'year': '2017', 'region': 'Taranaki region', 'count': '1389'}, {'year': '2017', 'region': 'Manawatu-Wanganui region', 'count': '3045'}, {'year': '2017', 'region': 'Wellington region', 'count': '6057'}, {'year': '2017', 'region': 'Tasman region', 'count': '459'}, {'year': '2017', 'region': 'Nelson region', 'count': '504'}, {'year': '2017', 'region': 'Marlborough region', 'count': '495'}, {'year': '2017', 'region': 'West Coast region', 'count': '363'}, {'year': '2017', 'region': 'Canterbury region', 'count': '7065'}, {'year': '2017', 'region': 'Otago region', 'count': '2241'}, {'year': '2017', 'region': 'Southland region', 'count': '1215'}, {'year': '2017', 'region': 'Region not stated or area outside region', 'count': '15'}, {'year': '2017', 'region': 'New Zealand', 'count': '59610'}, {'year': '2018', 'region': 'Northland region', 'count': '2181'}, {'year': '2018', 'region': 'Auckland region', 'count': '20712'}, {'year': '2018', 'region': 'Waikato region', 'count': '6054'}, {'year': '2018', 'region': 'Bay of Plenty region', 'count': '3969'}, {'year': '2018', 'region': 'Gisborne region', 'count': '711'}, {'year': '2018', 'region': \"Hawke's Bay region\", 'count': '2070'}, {'year': '2018', 'region': 'Taranaki region', 'count': '1548'}, {'year': '2018', 'region': 'Manawatu-Wanganui region', 'count': '3024'}, {'year': '2018', 'region': 'Wellington region', 'count': '5706'}, {'year': '2018', 'region': 'Tasman region', 'count': '447'}, {'year': '2018', 'region': 'Nelson region', 'count': '540'}, {'year': '2018', 'region': 'Marlborough region', 'count': '504'}, {'year': '2018', 'region': 'West Coast region', 'count': '324'}, {'year': '2018', 'region': 'Canterbury region', 'count': '6939'}, {'year': '2018', 'region': 'Otago region', 'count': '2148'}, {'year': '2018', 'region': 'Southland region', 'count': '1119'}, {'year': '2018', 'region': 'Region not stated or area outside region', 'count': '18'}, {'year': '2018', 'region': 'New Zealand', 'count': '58020'}, {'year': '2019', 'region': 'Northland region', 'count': '2250'}, {'year': '2019', 'region': 'Auckland region', 'count': '21405'}, {'year': '2019', 'region': 'Waikato region', 'count': '6237'}, {'year': '2019', 'region': 'Bay of Plenty region', 'count': '4047'}, {'year': '2019', 'region': 'Gisborne region', 'count': '675'}, {'year': '2019', 'region': \"Hawke's Bay region\", 'count': '2037'}, {'year': '2019', 'region': 'Taranaki region', 'count': '1542'}, {'year': '2019', 'region': 'Manawatu-Wanganui region', 'count': '3057'}, {'year': '2019', 'region': 'Wellington region', 'count': '5904'}, {'year': '2019', 'region': 'Tasman region', 'count': '462'}, {'year': '2019', 'region': 'Nelson region', 'count': '537'}, {'year': '2019', 'region': 'Marlborough region', 'count': '480'}, {'year': '2019', 'region': 'West Coast region', 'count': '354'}, {'year': '2019', 'region': 'Canterbury region', 'count': '7164'}, {'year': '2019', 'region': 'Otago region', 'count': '2310'}, {'year': '2019', 'region': 'Southland region', 'count': '1152'}, {'year': '2019', 'region': 'Region not stated or area outside region', 'count': '21'}, {'year': '2019', 'region': 'New Zealand', 'count': '59637'}, {'year': '2020', 'region': 'Northland region', 'count': '2244'}, {'year': '2020', 'region': 'Auckland region', 'count': '20385'}, {'year': '2020', 'region': 'Waikato region', 'count': '6195'}, {'year': '2020', 'region': 'Bay of Plenty region', 'count': '4005'}, {'year': '2020', 'region': 'Gisborne region', 'count': '663'}, {'year': '2020', 'region': \"Hawke's Bay region\", 'count': '2079'}, {'year': '2020', 'region': 'Taranaki region', 'count': '1467'}, {'year': '2020', 'region': 'Manawatu-Wanganui region', 'count': '2976'}, {'year': '2020', 'region': 'Wellington region', 'count': '5691'}, {'year': '2020', 'region': 'Tasman region', 'count': '474'}, {'year': '2020', 'region': 'Nelson region', 'count': '477'}, {'year': '2020', 'region': 'Marlborough region', 'count': '477'}, {'year': '2020', 'region': 'West Coast region', 'count': '312'}, {'year': '2020', 'region': 'Canterbury region', 'count': '6780'}, {'year': '2020', 'region': 'Otago region', 'count': '2238'}, {'year': '2020', 'region': 'Southland region', 'count': '1083'}, {'year': '2020', 'region': 'Region not stated or area outside region', 'count': '18'}, {'year': '2020', 'region': 'New Zealand', 'count': '57576'}, {'year': '2021', 'region': 'Northland region', 'count': '2262'}, {'year': '2021', 'region': 'Auckland region', 'count': '20520'}, {'year': '2021', 'region': 'Waikato region', 'count': '6330'}, {'year': '2021', 'region': 'Bay of Plenty region', 'count': '4173'}, {'year': '2021', 'region': 'Gisborne region', 'count': '675'}, {'year': '2021', 'region': \"Hawke's Bay region\", 'count': '2127'}, {'year': '2021', 'region': 'Taranaki region', 'count': '1488'}, {'year': '2021', 'region': 'Manawatu-Wanganui region', 'count': '2952'}, {'year': '2021', 'region': 'Wellington region', 'count': '5769'}, {'year': '2021', 'region': 'Tasman region', 'count': '492'}, {'year': '2021', 'region': 'Nelson region', 'count': '498'}, {'year': '2021', 'region': 'Marlborough region', 'count': '486'}, {'year': '2021', 'region': 'West Coast region', 'count': '333'}, {'year': '2021', 'region': 'Canterbury region', 'count': '7158'}, {'year': '2021', 'region': 'Otago region', 'count': '2325'}, {'year': '2021', 'region': 'Southland region', 'count': '1059'}, {'year': '2021', 'region': 'Region not stated or area outside region', 'count': '12'}, {'year': '2021', 'region': 'New Zealand', 'count': '58659'}]\n"
     ]
    }
   ],
   "source": [
    "birthsList = []\n",
    "deathsList = []\n",
    "\n",
    "for element in data:\n",
    "    if element[1] == 'Births':\n",
    "        birthsList.append({'year': element[0],\n",
    "                           'region': element[2],\n",
    "                           'count': element[3]\n",
    "                           })\n",
    "    else:\n",
    "        deathsList.append({'year': element[0],\n",
    "                           'region': element[2],\n",
    "                           'count': int(element[3])\n",
    "                           })\n",
    "\n",
    "print(birthsList)"
   ],
   "metadata": {
    "collapsed": false
   }
  },
  {
   "cell_type": "markdown",
   "source": [
    "# Connexion avec mongodb\n",
    "\n",
    "connexion et selection des collections `births` et `deaths`"
   ],
   "metadata": {
    "collapsed": false
   }
  },
  {
   "cell_type": "code",
   "execution_count": 115,
   "outputs": [
    {
     "data": {
      "text/plain": "<pymongo.results.InsertManyResult at 0x1e55545c440>"
     },
     "execution_count": 115,
     "metadata": {},
     "output_type": "execute_result"
    }
   ],
   "source": [
    "client = MongoClient('mongodb://localhost:27017')\n",
    "\n",
    "client.list_database_names()\n",
    "\n",
    "DATABASE_NAME = 'births-and-deaths'\n",
    "db = client[DATABASE_NAME]\n",
    "\n",
    "births = db['births']\n",
    "deaths = db['deaths']\n",
    "\n",
    "births.delete_many({})\n",
    "deaths.delete_many({})\n",
    "\n",
    "births.insert_many(birthsList)\n",
    "deaths.insert_many(deathsList)"
   ],
   "metadata": {
    "collapsed": false
   }
  },
  {
   "cell_type": "markdown",
   "source": [
    "# suppression des données inutilisées"
   ],
   "metadata": {
    "collapsed": false
   }
  },
  {
   "cell_type": "code",
   "execution_count": 116,
   "outputs": [
    {
     "data": {
      "text/plain": "<pymongo.results.DeleteResult at 0x1e555584140>"
     },
     "execution_count": 116,
     "metadata": {},
     "output_type": "execute_result"
    }
   ],
   "source": [
    "births.delete_many({\"region\":\"Region not stated or area outside region\"})"
   ],
   "metadata": {
    "collapsed": false
   }
  },
  {
   "cell_type": "markdown",
   "source": [
    "# Aggregation:\n",
    "selection des documents de la collection `births` qui ont comme annee `2021`"
   ],
   "metadata": {
    "collapsed": false
   }
  },
  {
   "cell_type": "code",
   "execution_count": 117,
   "outputs": [
    {
     "data": {
      "text/plain": "{'cursor': {'firstBatch': [{'_id': ObjectId('6390c981a3fe584a9a209df3'),\n    'year': '2021',\n    'region': 'Northland region',\n    'count': '2262'},\n   {'_id': ObjectId('6390c981a3fe584a9a209df4'),\n    'year': '2021',\n    'region': 'Auckland region',\n    'count': '20520'},\n   {'_id': ObjectId('6390c981a3fe584a9a209df5'),\n    'year': '2021',\n    'region': 'Waikato region',\n    'count': '6330'},\n   {'_id': ObjectId('6390c981a3fe584a9a209df6'),\n    'year': '2021',\n    'region': 'Bay of Plenty region',\n    'count': '4173'},\n   {'_id': ObjectId('6390c981a3fe584a9a209df7'),\n    'year': '2021',\n    'region': 'Gisborne region',\n    'count': '675'},\n   {'_id': ObjectId('6390c981a3fe584a9a209df8'),\n    'year': '2021',\n    'region': \"Hawke's Bay region\",\n    'count': '2127'},\n   {'_id': ObjectId('6390c981a3fe584a9a209df9'),\n    'year': '2021',\n    'region': 'Taranaki region',\n    'count': '1488'},\n   {'_id': ObjectId('6390c981a3fe584a9a209dfa'),\n    'year': '2021',\n    'region': 'Manawatu-Wanganui region',\n    'count': '2952'},\n   {'_id': ObjectId('6390c981a3fe584a9a209dfb'),\n    'year': '2021',\n    'region': 'Wellington region',\n    'count': '5769'},\n   {'_id': ObjectId('6390c981a3fe584a9a209dfc'),\n    'year': '2021',\n    'region': 'Tasman region',\n    'count': '492'},\n   {'_id': ObjectId('6390c981a3fe584a9a209dfd'),\n    'year': '2021',\n    'region': 'Nelson region',\n    'count': '498'},\n   {'_id': ObjectId('6390c981a3fe584a9a209dfe'),\n    'year': '2021',\n    'region': 'Marlborough region',\n    'count': '486'},\n   {'_id': ObjectId('6390c981a3fe584a9a209dff'),\n    'year': '2021',\n    'region': 'West Coast region',\n    'count': '333'},\n   {'_id': ObjectId('6390c981a3fe584a9a209e00'),\n    'year': '2021',\n    'region': 'Canterbury region',\n    'count': '7158'},\n   {'_id': ObjectId('6390c981a3fe584a9a209e01'),\n    'year': '2021',\n    'region': 'Otago region',\n    'count': '2325'},\n   {'_id': ObjectId('6390c981a3fe584a9a209e02'),\n    'year': '2021',\n    'region': 'Southland region',\n    'count': '1059'},\n   {'_id': ObjectId('6390c981a3fe584a9a209e04'),\n    'year': '2021',\n    'region': 'New Zealand',\n    'count': '58659'}],\n  'id': 0,\n  'ns': 'births-and-deaths.births'},\n 'ok': 1.0}"
     },
     "execution_count": 117,
     "metadata": {},
     "output_type": "execute_result"
    }
   ],
   "source": [
    "# births in 2021:\n",
    "aggregation = [\n",
    "    {\n",
    "        '$match': {'year': '2021'},\n",
    "    },\n",
    "]\n",
    "db.command('aggregate', 'births', pipeline=aggregation, explain=False)\n"
   ],
   "metadata": {
    "collapsed": false
   }
  },
  {
   "cell_type": "markdown",
   "source": [
    "# afficher le contenu du 'births'"
   ],
   "metadata": {
    "collapsed": false
   }
  },
  {
   "cell_type": "code",
   "execution_count": 118,
   "outputs": [
    {
     "name": "stdout",
     "output_type": "stream",
     "text": [
      "{'_id': ObjectId('6390c981a3fe584a9a209cd3'), 'year': '2005', 'region': 'Northland region', 'count': '2067'}\n",
      "{'_id': ObjectId('6390c981a3fe584a9a209cd4'), 'year': '2005', 'region': 'Auckland region', 'count': '20745'}\n",
      "{'_id': ObjectId('6390c981a3fe584a9a209cd5'), 'year': '2005', 'region': 'Waikato region', 'count': '5667'}\n",
      "{'_id': ObjectId('6390c981a3fe584a9a209cd6'), 'year': '2005', 'region': 'Bay of Plenty region', 'count': '3771'}\n",
      "{'_id': ObjectId('6390c981a3fe584a9a209cd7'), 'year': '2005', 'region': 'Gisborne region', 'count': '777'}\n",
      "{'_id': ObjectId('6390c981a3fe584a9a209cd8'), 'year': '2005', 'region': \"Hawke's Bay region\", 'count': '2115'}\n",
      "{'_id': ObjectId('6390c981a3fe584a9a209cd9'), 'year': '2005', 'region': 'Taranaki region', 'count': '1410'}\n",
      "{'_id': ObjectId('6390c981a3fe584a9a209cda'), 'year': '2005', 'region': 'Manawatu-Wanganui region', 'count': '3093'}\n",
      "{'_id': ObjectId('6390c981a3fe584a9a209cdb'), 'year': '2005', 'region': 'Wellington region', 'count': '6225'}\n",
      "{'_id': ObjectId('6390c981a3fe584a9a209cdc'), 'year': '2005', 'region': 'Tasman region', 'count': '513'}\n",
      "{'_id': ObjectId('6390c981a3fe584a9a209cdd'), 'year': '2005', 'region': 'Nelson region', 'count': '519'}\n",
      "{'_id': ObjectId('6390c981a3fe584a9a209cde'), 'year': '2005', 'region': 'Marlborough region', 'count': '471'}\n",
      "{'_id': ObjectId('6390c981a3fe584a9a209cdf'), 'year': '2005', 'region': 'West Coast region', 'count': '336'}\n",
      "{'_id': ObjectId('6390c981a3fe584a9a209ce0'), 'year': '2005', 'region': 'Canterbury region', 'count': '6603'}\n",
      "{'_id': ObjectId('6390c981a3fe584a9a209ce1'), 'year': '2005', 'region': 'Otago region', 'count': '2151'}\n",
      "{'_id': ObjectId('6390c981a3fe584a9a209ce2'), 'year': '2005', 'region': 'Southland region', 'count': '1212'}\n",
      "{'_id': ObjectId('6390c981a3fe584a9a209ce4'), 'year': '2005', 'region': 'New Zealand', 'count': '57747'}\n",
      "{'_id': ObjectId('6390c981a3fe584a9a209ce5'), 'year': '2006', 'region': 'Northland region', 'count': '2244'}\n",
      "{'_id': ObjectId('6390c981a3fe584a9a209ce6'), 'year': '2006', 'region': 'Auckland region', 'count': '21333'}\n",
      "{'_id': ObjectId('6390c981a3fe584a9a209ce7'), 'year': '2006', 'region': 'Waikato region', 'count': '5592'}\n",
      "{'_id': ObjectId('6390c981a3fe584a9a209ce8'), 'year': '2006', 'region': 'Bay of Plenty region', 'count': '3840'}\n",
      "{'_id': ObjectId('6390c981a3fe584a9a209ce9'), 'year': '2006', 'region': 'Gisborne region', 'count': '720'}\n",
      "{'_id': ObjectId('6390c981a3fe584a9a209cea'), 'year': '2006', 'region': \"Hawke's Bay region\", 'count': '2163'}\n",
      "{'_id': ObjectId('6390c981a3fe584a9a209ceb'), 'year': '2006', 'region': 'Taranaki region', 'count': '1455'}\n",
      "{'_id': ObjectId('6390c981a3fe584a9a209cec'), 'year': '2006', 'region': 'Manawatu-Wanganui region', 'count': '3165'}\n",
      "{'_id': ObjectId('6390c981a3fe584a9a209ced'), 'year': '2006', 'region': 'Wellington region', 'count': '6441'}\n",
      "{'_id': ObjectId('6390c981a3fe584a9a209cee'), 'year': '2006', 'region': 'Tasman region', 'count': '549'}\n",
      "{'_id': ObjectId('6390c981a3fe584a9a209cef'), 'year': '2006', 'region': 'Nelson region', 'count': '522'}\n",
      "{'_id': ObjectId('6390c981a3fe584a9a209cf0'), 'year': '2006', 'region': 'Marlborough region', 'count': '486'}\n",
      "{'_id': ObjectId('6390c981a3fe584a9a209cf1'), 'year': '2006', 'region': 'West Coast region', 'count': '390'}\n",
      "{'_id': ObjectId('6390c981a3fe584a9a209cf2'), 'year': '2006', 'region': 'Canterbury region', 'count': '6777'}\n",
      "{'_id': ObjectId('6390c981a3fe584a9a209cf3'), 'year': '2006', 'region': 'Otago region', 'count': '2148'}\n",
      "{'_id': ObjectId('6390c981a3fe584a9a209cf4'), 'year': '2006', 'region': 'Southland region', 'count': '1233'}\n",
      "{'_id': ObjectId('6390c981a3fe584a9a209cf6'), 'year': '2006', 'region': 'New Zealand', 'count': '59193'}\n",
      "{'_id': ObjectId('6390c981a3fe584a9a209cf7'), 'year': '2007', 'region': 'Northland region', 'count': '2322'}\n",
      "{'_id': ObjectId('6390c981a3fe584a9a209cf8'), 'year': '2007', 'region': 'Auckland region', 'count': '23007'}\n",
      "{'_id': ObjectId('6390c981a3fe584a9a209cf9'), 'year': '2007', 'region': 'Waikato region', 'count': '6231'}\n",
      "{'_id': ObjectId('6390c981a3fe584a9a209cfa'), 'year': '2007', 'region': 'Bay of Plenty region', 'count': '4053'}\n",
      "{'_id': ObjectId('6390c981a3fe584a9a209cfb'), 'year': '2007', 'region': 'Gisborne region', 'count': '801'}\n",
      "{'_id': ObjectId('6390c981a3fe584a9a209cfc'), 'year': '2007', 'region': \"Hawke's Bay region\", 'count': '2319'}\n",
      "{'_id': ObjectId('6390c981a3fe584a9a209cfd'), 'year': '2007', 'region': 'Taranaki region', 'count': '1611'}\n",
      "{'_id': ObjectId('6390c981a3fe584a9a209cfe'), 'year': '2007', 'region': 'Manawatu-Wanganui region', 'count': '3297'}\n",
      "{'_id': ObjectId('6390c981a3fe584a9a209cff'), 'year': '2007', 'region': 'Wellington region', 'count': '6876'}\n",
      "{'_id': ObjectId('6390c981a3fe584a9a209d00'), 'year': '2007', 'region': 'Tasman region', 'count': '552'}\n",
      "{'_id': ObjectId('6390c981a3fe584a9a209d01'), 'year': '2007', 'region': 'Nelson region', 'count': '639'}\n",
      "{'_id': ObjectId('6390c981a3fe584a9a209d02'), 'year': '2007', 'region': 'Marlborough region', 'count': '513'}\n",
      "{'_id': ObjectId('6390c981a3fe584a9a209d03'), 'year': '2007', 'region': 'West Coast region', 'count': '405'}\n",
      "{'_id': ObjectId('6390c981a3fe584a9a209d04'), 'year': '2007', 'region': 'Canterbury region', 'count': '7548'}\n",
      "{'_id': ObjectId('6390c981a3fe584a9a209d05'), 'year': '2007', 'region': 'Otago region', 'count': '2349'}\n",
      "{'_id': ObjectId('6390c981a3fe584a9a209d06'), 'year': '2007', 'region': 'Southland region', 'count': '1350'}\n",
      "{'_id': ObjectId('6390c981a3fe584a9a209d08'), 'year': '2007', 'region': 'New Zealand', 'count': '64044'}\n",
      "{'_id': ObjectId('6390c981a3fe584a9a209d09'), 'year': '2008', 'region': 'Northland region', 'count': '2304'}\n",
      "{'_id': ObjectId('6390c981a3fe584a9a209d0a'), 'year': '2008', 'region': 'Auckland region', 'count': '23112'}\n",
      "{'_id': ObjectId('6390c981a3fe584a9a209d0b'), 'year': '2008', 'region': 'Waikato region', 'count': '6423'}\n",
      "{'_id': ObjectId('6390c981a3fe584a9a209d0c'), 'year': '2008', 'region': 'Bay of Plenty region', 'count': '4116'}\n",
      "{'_id': ObjectId('6390c981a3fe584a9a209d0d'), 'year': '2008', 'region': 'Gisborne region', 'count': '828'}\n",
      "{'_id': ObjectId('6390c981a3fe584a9a209d0e'), 'year': '2008', 'region': \"Hawke's Bay region\", 'count': '2358'}\n",
      "{'_id': ObjectId('6390c981a3fe584a9a209d0f'), 'year': '2008', 'region': 'Taranaki region', 'count': '1596'}\n",
      "{'_id': ObjectId('6390c981a3fe584a9a209d10'), 'year': '2008', 'region': 'Manawatu-Wanganui region', 'count': '3372'}\n",
      "{'_id': ObjectId('6390c981a3fe584a9a209d11'), 'year': '2008', 'region': 'Wellington region', 'count': '6972'}\n",
      "{'_id': ObjectId('6390c981a3fe584a9a209d12'), 'year': '2008', 'region': 'Tasman region', 'count': '558'}\n",
      "{'_id': ObjectId('6390c981a3fe584a9a209d13'), 'year': '2008', 'region': 'Nelson region', 'count': '627'}\n",
      "{'_id': ObjectId('6390c981a3fe584a9a209d14'), 'year': '2008', 'region': 'Marlborough region', 'count': '570'}\n",
      "{'_id': ObjectId('6390c981a3fe584a9a209d15'), 'year': '2008', 'region': 'West Coast region', 'count': '453'}\n",
      "{'_id': ObjectId('6390c981a3fe584a9a209d16'), 'year': '2008', 'region': 'Canterbury region', 'count': '7284'}\n",
      "{'_id': ObjectId('6390c981a3fe584a9a209d17'), 'year': '2008', 'region': 'Otago region', 'count': '2367'}\n",
      "{'_id': ObjectId('6390c981a3fe584a9a209d18'), 'year': '2008', 'region': 'Southland region', 'count': '1338'}\n",
      "{'_id': ObjectId('6390c981a3fe584a9a209d1a'), 'year': '2008', 'region': 'New Zealand', 'count': '64344'}\n",
      "{'_id': ObjectId('6390c981a3fe584a9a209d1b'), 'year': '2009', 'region': 'Northland region', 'count': '2199'}\n",
      "{'_id': ObjectId('6390c981a3fe584a9a209d1c'), 'year': '2009', 'region': 'Auckland region', 'count': '22605'}\n",
      "{'_id': ObjectId('6390c981a3fe584a9a209d1d'), 'year': '2009', 'region': 'Waikato region', 'count': '6147'}\n",
      "{'_id': ObjectId('6390c981a3fe584a9a209d1e'), 'year': '2009', 'region': 'Bay of Plenty region', 'count': '3939'}\n",
      "{'_id': ObjectId('6390c981a3fe584a9a209d1f'), 'year': '2009', 'region': 'Gisborne region', 'count': '729'}\n",
      "{'_id': ObjectId('6390c981a3fe584a9a209d20'), 'year': '2009', 'region': \"Hawke's Bay region\", 'count': '2352'}\n",
      "{'_id': ObjectId('6390c981a3fe584a9a209d21'), 'year': '2009', 'region': 'Taranaki region', 'count': '1587'}\n",
      "{'_id': ObjectId('6390c981a3fe584a9a209d22'), 'year': '2009', 'region': 'Manawatu-Wanganui region', 'count': '3153'}\n",
      "{'_id': ObjectId('6390c981a3fe584a9a209d23'), 'year': '2009', 'region': 'Wellington region', 'count': '6792'}\n",
      "{'_id': ObjectId('6390c981a3fe584a9a209d24'), 'year': '2009', 'region': 'Tasman region', 'count': '498'}\n",
      "{'_id': ObjectId('6390c981a3fe584a9a209d25'), 'year': '2009', 'region': 'Nelson region', 'count': '603'}\n",
      "{'_id': ObjectId('6390c981a3fe584a9a209d26'), 'year': '2009', 'region': 'Marlborough region', 'count': '552'}\n",
      "{'_id': ObjectId('6390c981a3fe584a9a209d27'), 'year': '2009', 'region': 'West Coast region', 'count': '432'}\n",
      "{'_id': ObjectId('6390c981a3fe584a9a209d28'), 'year': '2009', 'region': 'Canterbury region', 'count': '7161'}\n",
      "{'_id': ObjectId('6390c981a3fe584a9a209d29'), 'year': '2009', 'region': 'Otago region', 'count': '2352'}\n",
      "{'_id': ObjectId('6390c981a3fe584a9a209d2a'), 'year': '2009', 'region': 'Southland region', 'count': '1356'}\n",
      "{'_id': ObjectId('6390c981a3fe584a9a209d2c'), 'year': '2009', 'region': 'New Zealand', 'count': '62544'}\n",
      "{'_id': ObjectId('6390c981a3fe584a9a209d2d'), 'year': '2010', 'region': 'Northland region', 'count': '2397'}\n",
      "{'_id': ObjectId('6390c981a3fe584a9a209d2e'), 'year': '2010', 'region': 'Auckland region', 'count': '23214'}\n",
      "{'_id': ObjectId('6390c981a3fe584a9a209d2f'), 'year': '2010', 'region': 'Waikato region', 'count': '6324'}\n",
      "{'_id': ObjectId('6390c981a3fe584a9a209d30'), 'year': '2010', 'region': 'Bay of Plenty region', 'count': '3957'}\n",
      "{'_id': ObjectId('6390c981a3fe584a9a209d31'), 'year': '2010', 'region': 'Gisborne region', 'count': '783'}\n",
      "{'_id': ObjectId('6390c981a3fe584a9a209d32'), 'year': '2010', 'region': \"Hawke's Bay region\", 'count': '2286'}\n",
      "{'_id': ObjectId('6390c981a3fe584a9a209d33'), 'year': '2010', 'region': 'Taranaki region', 'count': '1596'}\n",
      "{'_id': ObjectId('6390c981a3fe584a9a209d34'), 'year': '2010', 'region': 'Manawatu-Wanganui region', 'count': '3297'}\n",
      "{'_id': ObjectId('6390c981a3fe584a9a209d35'), 'year': '2010', 'region': 'Wellington region', 'count': '6771'}\n",
      "{'_id': ObjectId('6390c981a3fe584a9a209d36'), 'year': '2010', 'region': 'Tasman region', 'count': '543'}\n",
      "{'_id': ObjectId('6390c981a3fe584a9a209d37'), 'year': '2010', 'region': 'Nelson region', 'count': '603'}\n",
      "{'_id': ObjectId('6390c981a3fe584a9a209d38'), 'year': '2010', 'region': 'Marlborough region', 'count': '573'}\n",
      "{'_id': ObjectId('6390c981a3fe584a9a209d39'), 'year': '2010', 'region': 'West Coast region', 'count': '429'}\n",
      "{'_id': ObjectId('6390c981a3fe584a9a209d3a'), 'year': '2010', 'region': 'Canterbury region', 'count': '7305'}\n",
      "{'_id': ObjectId('6390c981a3fe584a9a209d3b'), 'year': '2010', 'region': 'Otago region', 'count': '2331'}\n",
      "{'_id': ObjectId('6390c981a3fe584a9a209d3c'), 'year': '2010', 'region': 'Southland region', 'count': '1404'}\n",
      "{'_id': ObjectId('6390c981a3fe584a9a209d3e'), 'year': '2010', 'region': 'New Zealand', 'count': '63897'}\n",
      "{'_id': ObjectId('6390c981a3fe584a9a209d3f'), 'year': '2011', 'region': 'Northland region', 'count': '2199'}\n",
      "{'_id': ObjectId('6390c981a3fe584a9a209d40'), 'year': '2011', 'region': 'Auckland region', 'count': '22659'}\n",
      "{'_id': ObjectId('6390c981a3fe584a9a209d41'), 'year': '2011', 'region': 'Waikato region', 'count': '5916'}\n",
      "{'_id': ObjectId('6390c981a3fe584a9a209d42'), 'year': '2011', 'region': 'Bay of Plenty region', 'count': '3951'}\n",
      "{'_id': ObjectId('6390c981a3fe584a9a209d43'), 'year': '2011', 'region': 'Gisborne region', 'count': '738'}\n",
      "{'_id': ObjectId('6390c981a3fe584a9a209d44'), 'year': '2011', 'region': \"Hawke's Bay region\", 'count': '2226'}\n",
      "{'_id': ObjectId('6390c981a3fe584a9a209d45'), 'year': '2011', 'region': 'Taranaki region', 'count': '1554'}\n",
      "{'_id': ObjectId('6390c981a3fe584a9a209d46'), 'year': '2011', 'region': 'Manawatu-Wanganui region', 'count': '3171'}\n",
      "{'_id': ObjectId('6390c981a3fe584a9a209d47'), 'year': '2011', 'region': 'Wellington region', 'count': '6528'}\n",
      "{'_id': ObjectId('6390c981a3fe584a9a209d48'), 'year': '2011', 'region': 'Tasman region', 'count': '501'}\n",
      "{'_id': ObjectId('6390c981a3fe584a9a209d49'), 'year': '2011', 'region': 'Nelson region', 'count': '600'}\n",
      "{'_id': ObjectId('6390c981a3fe584a9a209d4a'), 'year': '2011', 'region': 'Marlborough region', 'count': '540'}\n",
      "{'_id': ObjectId('6390c981a3fe584a9a209d4b'), 'year': '2011', 'region': 'West Coast region', 'count': '432'}\n",
      "{'_id': ObjectId('6390c981a3fe584a9a209d4c'), 'year': '2011', 'region': 'Canterbury region', 'count': '6693'}\n",
      "{'_id': ObjectId('6390c981a3fe584a9a209d4d'), 'year': '2011', 'region': 'Otago region', 'count': '2340'}\n",
      "{'_id': ObjectId('6390c981a3fe584a9a209d4e'), 'year': '2011', 'region': 'Southland region', 'count': '1332'}\n",
      "{'_id': ObjectId('6390c981a3fe584a9a209d50'), 'year': '2011', 'region': 'New Zealand', 'count': '61401'}\n",
      "{'_id': ObjectId('6390c981a3fe584a9a209d51'), 'year': '2012', 'region': 'Northland region', 'count': '2310'}\n",
      "{'_id': ObjectId('6390c981a3fe584a9a209d52'), 'year': '2012', 'region': 'Auckland region', 'count': '22836'}\n",
      "{'_id': ObjectId('6390c981a3fe584a9a209d53'), 'year': '2012', 'region': 'Waikato region', 'count': '6051'}\n",
      "{'_id': ObjectId('6390c981a3fe584a9a209d54'), 'year': '2012', 'region': 'Bay of Plenty region', 'count': '3876'}\n",
      "{'_id': ObjectId('6390c981a3fe584a9a209d55'), 'year': '2012', 'region': 'Gisborne region', 'count': '708'}\n",
      "{'_id': ObjectId('6390c981a3fe584a9a209d56'), 'year': '2012', 'region': \"Hawke's Bay region\", 'count': '2238'}\n",
      "{'_id': ObjectId('6390c981a3fe584a9a209d57'), 'year': '2012', 'region': 'Taranaki region', 'count': '1533'}\n",
      "{'_id': ObjectId('6390c981a3fe584a9a209d58'), 'year': '2012', 'region': 'Manawatu-Wanganui region', 'count': '3015'}\n",
      "{'_id': ObjectId('6390c981a3fe584a9a209d59'), 'year': '2012', 'region': 'Wellington region', 'count': '6435'}\n",
      "{'_id': ObjectId('6390c981a3fe584a9a209d5a'), 'year': '2012', 'region': 'Tasman region', 'count': '477'}\n",
      "{'_id': ObjectId('6390c981a3fe584a9a209d5b'), 'year': '2012', 'region': 'Nelson region', 'count': '546'}\n",
      "{'_id': ObjectId('6390c981a3fe584a9a209d5c'), 'year': '2012', 'region': 'Marlborough region', 'count': '507'}\n",
      "{'_id': ObjectId('6390c981a3fe584a9a209d5d'), 'year': '2012', 'region': 'West Coast region', 'count': '417'}\n",
      "{'_id': ObjectId('6390c981a3fe584a9a209d5e'), 'year': '2012', 'region': 'Canterbury region', 'count': '6633'}\n",
      "{'_id': ObjectId('6390c981a3fe584a9a209d5f'), 'year': '2012', 'region': 'Otago region', 'count': '2337'}\n",
      "{'_id': ObjectId('6390c981a3fe584a9a209d60'), 'year': '2012', 'region': 'Southland region', 'count': '1245'}\n",
      "{'_id': ObjectId('6390c981a3fe584a9a209d62'), 'year': '2012', 'region': 'New Zealand', 'count': '61179'}\n",
      "{'_id': ObjectId('6390c981a3fe584a9a209d63'), 'year': '2013', 'region': 'Northland region', 'count': '2124'}\n",
      "{'_id': ObjectId('6390c981a3fe584a9a209d64'), 'year': '2013', 'region': 'Auckland region', 'count': '21825'}\n",
      "{'_id': ObjectId('6390c981a3fe584a9a209d65'), 'year': '2013', 'region': 'Waikato region', 'count': '5745'}\n",
      "{'_id': ObjectId('6390c981a3fe584a9a209d66'), 'year': '2013', 'region': 'Bay of Plenty region', 'count': '3696'}\n",
      "{'_id': ObjectId('6390c981a3fe584a9a209d67'), 'year': '2013', 'region': 'Gisborne region', 'count': '699'}\n",
      "{'_id': ObjectId('6390c981a3fe584a9a209d68'), 'year': '2013', 'region': \"Hawke's Bay region\", 'count': '2160'}\n",
      "{'_id': ObjectId('6390c981a3fe584a9a209d69'), 'year': '2013', 'region': 'Taranaki region', 'count': '1503'}\n",
      "{'_id': ObjectId('6390c981a3fe584a9a209d6a'), 'year': '2013', 'region': 'Manawatu-Wanganui region', 'count': '2985'}\n",
      "{'_id': ObjectId('6390c981a3fe584a9a209d6b'), 'year': '2013', 'region': 'Wellington region', 'count': '6057'}\n",
      "{'_id': ObjectId('6390c981a3fe584a9a209d6c'), 'year': '2013', 'region': 'Tasman region', 'count': '486'}\n",
      "{'_id': ObjectId('6390c981a3fe584a9a209d6d'), 'year': '2013', 'region': 'Nelson region', 'count': '555'}\n",
      "{'_id': ObjectId('6390c981a3fe584a9a209d6e'), 'year': '2013', 'region': 'Marlborough region', 'count': '504'}\n",
      "{'_id': ObjectId('6390c981a3fe584a9a209d6f'), 'year': '2013', 'region': 'West Coast region', 'count': '384'}\n",
      "{'_id': ObjectId('6390c981a3fe584a9a209d70'), 'year': '2013', 'region': 'Canterbury region', 'count': '6543'}\n",
      "{'_id': ObjectId('6390c981a3fe584a9a209d71'), 'year': '2013', 'region': 'Otago region', 'count': '2235'}\n",
      "{'_id': ObjectId('6390c981a3fe584a9a209d72'), 'year': '2013', 'region': 'Southland region', 'count': '1200'}\n",
      "{'_id': ObjectId('6390c981a3fe584a9a209d74'), 'year': '2013', 'region': 'New Zealand', 'count': '58716'}\n",
      "{'_id': ObjectId('6390c981a3fe584a9a209d75'), 'year': '2014', 'region': 'Northland region', 'count': '2049'}\n",
      "{'_id': ObjectId('6390c981a3fe584a9a209d76'), 'year': '2014', 'region': 'Auckland region', 'count': '21429'}\n",
      "{'_id': ObjectId('6390c981a3fe584a9a209d77'), 'year': '2014', 'region': 'Waikato region', 'count': '5688'}\n",
      "{'_id': ObjectId('6390c981a3fe584a9a209d78'), 'year': '2014', 'region': 'Bay of Plenty region', 'count': '3504'}\n",
      "{'_id': ObjectId('6390c981a3fe584a9a209d79'), 'year': '2014', 'region': 'Gisborne region', 'count': '651'}\n",
      "{'_id': ObjectId('6390c981a3fe584a9a209d7a'), 'year': '2014', 'region': \"Hawke's Bay region\", 'count': '2037'}\n",
      "{'_id': ObjectId('6390c981a3fe584a9a209d7b'), 'year': '2014', 'region': 'Taranaki region', 'count': '1506'}\n",
      "{'_id': ObjectId('6390c981a3fe584a9a209d7c'), 'year': '2014', 'region': 'Manawatu-Wanganui region', 'count': '2865'}\n",
      "{'_id': ObjectId('6390c981a3fe584a9a209d7d'), 'year': '2014', 'region': 'Wellington region', 'count': '5889'}\n",
      "{'_id': ObjectId('6390c981a3fe584a9a209d7e'), 'year': '2014', 'region': 'Tasman region', 'count': '411'}\n",
      "{'_id': ObjectId('6390c981a3fe584a9a209d7f'), 'year': '2014', 'region': 'Nelson region', 'count': '534'}\n",
      "{'_id': ObjectId('6390c981a3fe584a9a209d80'), 'year': '2014', 'region': 'Marlborough region', 'count': '486'}\n",
      "{'_id': ObjectId('6390c981a3fe584a9a209d81'), 'year': '2014', 'region': 'West Coast region', 'count': '375'}\n",
      "{'_id': ObjectId('6390c981a3fe584a9a209d82'), 'year': '2014', 'region': 'Canterbury region', 'count': '6573'}\n",
      "{'_id': ObjectId('6390c981a3fe584a9a209d83'), 'year': '2014', 'region': 'Otago region', 'count': '2088'}\n",
      "{'_id': ObjectId('6390c981a3fe584a9a209d84'), 'year': '2014', 'region': 'Southland region', 'count': '1134'}\n",
      "{'_id': ObjectId('6390c981a3fe584a9a209d86'), 'year': '2014', 'region': 'New Zealand', 'count': '57243'}\n",
      "{'_id': ObjectId('6390c981a3fe584a9a209d87'), 'year': '2015', 'region': 'Northland region', 'count': '2196'}\n",
      "{'_id': ObjectId('6390c981a3fe584a9a209d88'), 'year': '2015', 'region': 'Auckland region', 'count': '22434'}\n",
      "{'_id': ObjectId('6390c981a3fe584a9a209d89'), 'year': '2015', 'region': 'Waikato region', 'count': '6234'}\n",
      "{'_id': ObjectId('6390c981a3fe584a9a209d8a'), 'year': '2015', 'region': 'Bay of Plenty region', 'count': '3879'}\n",
      "{'_id': ObjectId('6390c981a3fe584a9a209d8b'), 'year': '2015', 'region': 'Gisborne region', 'count': '717'}\n",
      "{'_id': ObjectId('6390c981a3fe584a9a209d8c'), 'year': '2015', 'region': \"Hawke's Bay region\", 'count': '2145'}\n",
      "{'_id': ObjectId('6390c981a3fe584a9a209d8d'), 'year': '2015', 'region': 'Taranaki region', 'count': '1611'}\n",
      "{'_id': ObjectId('6390c981a3fe584a9a209d8e'), 'year': '2015', 'region': 'Manawatu-Wanganui region', 'count': '3072'}\n",
      "{'_id': ObjectId('6390c981a3fe584a9a209d8f'), 'year': '2015', 'region': 'Wellington region', 'count': '6231'}\n",
      "{'_id': ObjectId('6390c981a3fe584a9a209d90'), 'year': '2015', 'region': 'Tasman region', 'count': '447'}\n",
      "{'_id': ObjectId('6390c981a3fe584a9a209d91'), 'year': '2015', 'region': 'Nelson region', 'count': '534'}\n",
      "{'_id': ObjectId('6390c981a3fe584a9a209d92'), 'year': '2015', 'region': 'Marlborough region', 'count': '489'}\n",
      "{'_id': ObjectId('6390c981a3fe584a9a209d93'), 'year': '2015', 'region': 'West Coast region', 'count': '381'}\n",
      "{'_id': ObjectId('6390c981a3fe584a9a209d94'), 'year': '2015', 'region': 'Canterbury region', 'count': '7077'}\n",
      "{'_id': ObjectId('6390c981a3fe584a9a209d95'), 'year': '2015', 'region': 'Otago region', 'count': '2358'}\n",
      "{'_id': ObjectId('6390c981a3fe584a9a209d96'), 'year': '2015', 'region': 'Southland region', 'count': '1224'}\n",
      "{'_id': ObjectId('6390c981a3fe584a9a209d98'), 'year': '2015', 'region': 'New Zealand', 'count': '61038'}\n",
      "{'_id': ObjectId('6390c981a3fe584a9a209d99'), 'year': '2016', 'region': 'Northland region', 'count': '2229'}\n",
      "{'_id': ObjectId('6390c981a3fe584a9a209d9a'), 'year': '2016', 'region': 'Auckland region', 'count': '21810'}\n",
      "{'_id': ObjectId('6390c981a3fe584a9a209d9b'), 'year': '2016', 'region': 'Waikato region', 'count': '6066'}\n",
      "{'_id': ObjectId('6390c981a3fe584a9a209d9c'), 'year': '2016', 'region': 'Bay of Plenty region', 'count': '3864'}\n",
      "{'_id': ObjectId('6390c981a3fe584a9a209d9d'), 'year': '2016', 'region': 'Gisborne region', 'count': '738'}\n",
      "{'_id': ObjectId('6390c981a3fe584a9a209d9e'), 'year': '2016', 'region': \"Hawke's Bay region\", 'count': '2058'}\n",
      "{'_id': ObjectId('6390c981a3fe584a9a209d9f'), 'year': '2016', 'region': 'Taranaki region', 'count': '1473'}\n",
      "{'_id': ObjectId('6390c981a3fe584a9a209da0'), 'year': '2016', 'region': 'Manawatu-Wanganui region', 'count': '2928'}\n",
      "{'_id': ObjectId('6390c981a3fe584a9a209da1'), 'year': '2016', 'region': 'Wellington region', 'count': '6015'}\n",
      "{'_id': ObjectId('6390c981a3fe584a9a209da2'), 'year': '2016', 'region': 'Tasman region', 'count': '453'}\n",
      "{'_id': ObjectId('6390c981a3fe584a9a209da3'), 'year': '2016', 'region': 'Nelson region', 'count': '540'}\n",
      "{'_id': ObjectId('6390c981a3fe584a9a209da4'), 'year': '2016', 'region': 'Marlborough region', 'count': '534'}\n",
      "{'_id': ObjectId('6390c981a3fe584a9a209da5'), 'year': '2016', 'region': 'West Coast region', 'count': '324'}\n",
      "{'_id': ObjectId('6390c981a3fe584a9a209da6'), 'year': '2016', 'region': 'Canterbury region', 'count': '7014'}\n",
      "{'_id': ObjectId('6390c981a3fe584a9a209da7'), 'year': '2016', 'region': 'Otago region', 'count': '2199'}\n",
      "{'_id': ObjectId('6390c981a3fe584a9a209da8'), 'year': '2016', 'region': 'Southland region', 'count': '1161'}\n",
      "{'_id': ObjectId('6390c981a3fe584a9a209daa'), 'year': '2016', 'region': 'New Zealand', 'count': '59427'}\n",
      "{'_id': ObjectId('6390c981a3fe584a9a209dab'), 'year': '2017', 'region': 'Northland region', 'count': '2247'}\n",
      "{'_id': ObjectId('6390c981a3fe584a9a209dac'), 'year': '2017', 'region': 'Auckland region', 'count': '21393'}\n",
      "{'_id': ObjectId('6390c981a3fe584a9a209dad'), 'year': '2017', 'region': 'Waikato region', 'count': '6204'}\n",
      "{'_id': ObjectId('6390c981a3fe584a9a209dae'), 'year': '2017', 'region': 'Bay of Plenty region', 'count': '4086'}\n",
      "{'_id': ObjectId('6390c981a3fe584a9a209daf'), 'year': '2017', 'region': 'Gisborne region', 'count': '705'}\n",
      "{'_id': ObjectId('6390c981a3fe584a9a209db0'), 'year': '2017', 'region': \"Hawke's Bay region\", 'count': '2127'}\n",
      "{'_id': ObjectId('6390c981a3fe584a9a209db1'), 'year': '2017', 'region': 'Taranaki region', 'count': '1389'}\n",
      "{'_id': ObjectId('6390c981a3fe584a9a209db2'), 'year': '2017', 'region': 'Manawatu-Wanganui region', 'count': '3045'}\n",
      "{'_id': ObjectId('6390c981a3fe584a9a209db3'), 'year': '2017', 'region': 'Wellington region', 'count': '6057'}\n",
      "{'_id': ObjectId('6390c981a3fe584a9a209db4'), 'year': '2017', 'region': 'Tasman region', 'count': '459'}\n",
      "{'_id': ObjectId('6390c981a3fe584a9a209db5'), 'year': '2017', 'region': 'Nelson region', 'count': '504'}\n",
      "{'_id': ObjectId('6390c981a3fe584a9a209db6'), 'year': '2017', 'region': 'Marlborough region', 'count': '495'}\n",
      "{'_id': ObjectId('6390c981a3fe584a9a209db7'), 'year': '2017', 'region': 'West Coast region', 'count': '363'}\n",
      "{'_id': ObjectId('6390c981a3fe584a9a209db8'), 'year': '2017', 'region': 'Canterbury region', 'count': '7065'}\n",
      "{'_id': ObjectId('6390c981a3fe584a9a209db9'), 'year': '2017', 'region': 'Otago region', 'count': '2241'}\n",
      "{'_id': ObjectId('6390c981a3fe584a9a209dba'), 'year': '2017', 'region': 'Southland region', 'count': '1215'}\n",
      "{'_id': ObjectId('6390c981a3fe584a9a209dbc'), 'year': '2017', 'region': 'New Zealand', 'count': '59610'}\n",
      "{'_id': ObjectId('6390c981a3fe584a9a209dbd'), 'year': '2018', 'region': 'Northland region', 'count': '2181'}\n",
      "{'_id': ObjectId('6390c981a3fe584a9a209dbe'), 'year': '2018', 'region': 'Auckland region', 'count': '20712'}\n",
      "{'_id': ObjectId('6390c981a3fe584a9a209dbf'), 'year': '2018', 'region': 'Waikato region', 'count': '6054'}\n",
      "{'_id': ObjectId('6390c981a3fe584a9a209dc0'), 'year': '2018', 'region': 'Bay of Plenty region', 'count': '3969'}\n",
      "{'_id': ObjectId('6390c981a3fe584a9a209dc1'), 'year': '2018', 'region': 'Gisborne region', 'count': '711'}\n",
      "{'_id': ObjectId('6390c981a3fe584a9a209dc2'), 'year': '2018', 'region': \"Hawke's Bay region\", 'count': '2070'}\n",
      "{'_id': ObjectId('6390c981a3fe584a9a209dc3'), 'year': '2018', 'region': 'Taranaki region', 'count': '1548'}\n",
      "{'_id': ObjectId('6390c981a3fe584a9a209dc4'), 'year': '2018', 'region': 'Manawatu-Wanganui region', 'count': '3024'}\n",
      "{'_id': ObjectId('6390c981a3fe584a9a209dc5'), 'year': '2018', 'region': 'Wellington region', 'count': '5706'}\n",
      "{'_id': ObjectId('6390c981a3fe584a9a209dc6'), 'year': '2018', 'region': 'Tasman region', 'count': '447'}\n",
      "{'_id': ObjectId('6390c981a3fe584a9a209dc7'), 'year': '2018', 'region': 'Nelson region', 'count': '540'}\n",
      "{'_id': ObjectId('6390c981a3fe584a9a209dc8'), 'year': '2018', 'region': 'Marlborough region', 'count': '504'}\n",
      "{'_id': ObjectId('6390c981a3fe584a9a209dc9'), 'year': '2018', 'region': 'West Coast region', 'count': '324'}\n",
      "{'_id': ObjectId('6390c981a3fe584a9a209dca'), 'year': '2018', 'region': 'Canterbury region', 'count': '6939'}\n",
      "{'_id': ObjectId('6390c981a3fe584a9a209dcb'), 'year': '2018', 'region': 'Otago region', 'count': '2148'}\n",
      "{'_id': ObjectId('6390c981a3fe584a9a209dcc'), 'year': '2018', 'region': 'Southland region', 'count': '1119'}\n",
      "{'_id': ObjectId('6390c981a3fe584a9a209dce'), 'year': '2018', 'region': 'New Zealand', 'count': '58020'}\n",
      "{'_id': ObjectId('6390c981a3fe584a9a209dcf'), 'year': '2019', 'region': 'Northland region', 'count': '2250'}\n",
      "{'_id': ObjectId('6390c981a3fe584a9a209dd0'), 'year': '2019', 'region': 'Auckland region', 'count': '21405'}\n",
      "{'_id': ObjectId('6390c981a3fe584a9a209dd1'), 'year': '2019', 'region': 'Waikato region', 'count': '6237'}\n",
      "{'_id': ObjectId('6390c981a3fe584a9a209dd2'), 'year': '2019', 'region': 'Bay of Plenty region', 'count': '4047'}\n",
      "{'_id': ObjectId('6390c981a3fe584a9a209dd3'), 'year': '2019', 'region': 'Gisborne region', 'count': '675'}\n",
      "{'_id': ObjectId('6390c981a3fe584a9a209dd4'), 'year': '2019', 'region': \"Hawke's Bay region\", 'count': '2037'}\n",
      "{'_id': ObjectId('6390c981a3fe584a9a209dd5'), 'year': '2019', 'region': 'Taranaki region', 'count': '1542'}\n",
      "{'_id': ObjectId('6390c981a3fe584a9a209dd6'), 'year': '2019', 'region': 'Manawatu-Wanganui region', 'count': '3057'}\n",
      "{'_id': ObjectId('6390c981a3fe584a9a209dd7'), 'year': '2019', 'region': 'Wellington region', 'count': '5904'}\n",
      "{'_id': ObjectId('6390c981a3fe584a9a209dd8'), 'year': '2019', 'region': 'Tasman region', 'count': '462'}\n",
      "{'_id': ObjectId('6390c981a3fe584a9a209dd9'), 'year': '2019', 'region': 'Nelson region', 'count': '537'}\n",
      "{'_id': ObjectId('6390c981a3fe584a9a209dda'), 'year': '2019', 'region': 'Marlborough region', 'count': '480'}\n",
      "{'_id': ObjectId('6390c981a3fe584a9a209ddb'), 'year': '2019', 'region': 'West Coast region', 'count': '354'}\n",
      "{'_id': ObjectId('6390c981a3fe584a9a209ddc'), 'year': '2019', 'region': 'Canterbury region', 'count': '7164'}\n",
      "{'_id': ObjectId('6390c981a3fe584a9a209ddd'), 'year': '2019', 'region': 'Otago region', 'count': '2310'}\n",
      "{'_id': ObjectId('6390c981a3fe584a9a209dde'), 'year': '2019', 'region': 'Southland region', 'count': '1152'}\n",
      "{'_id': ObjectId('6390c981a3fe584a9a209de0'), 'year': '2019', 'region': 'New Zealand', 'count': '59637'}\n",
      "{'_id': ObjectId('6390c981a3fe584a9a209de1'), 'year': '2020', 'region': 'Northland region', 'count': '2244'}\n",
      "{'_id': ObjectId('6390c981a3fe584a9a209de2'), 'year': '2020', 'region': 'Auckland region', 'count': '20385'}\n",
      "{'_id': ObjectId('6390c981a3fe584a9a209de3'), 'year': '2020', 'region': 'Waikato region', 'count': '6195'}\n",
      "{'_id': ObjectId('6390c981a3fe584a9a209de4'), 'year': '2020', 'region': 'Bay of Plenty region', 'count': '4005'}\n",
      "{'_id': ObjectId('6390c981a3fe584a9a209de5'), 'year': '2020', 'region': 'Gisborne region', 'count': '663'}\n",
      "{'_id': ObjectId('6390c981a3fe584a9a209de6'), 'year': '2020', 'region': \"Hawke's Bay region\", 'count': '2079'}\n",
      "{'_id': ObjectId('6390c981a3fe584a9a209de7'), 'year': '2020', 'region': 'Taranaki region', 'count': '1467'}\n",
      "{'_id': ObjectId('6390c981a3fe584a9a209de8'), 'year': '2020', 'region': 'Manawatu-Wanganui region', 'count': '2976'}\n",
      "{'_id': ObjectId('6390c981a3fe584a9a209de9'), 'year': '2020', 'region': 'Wellington region', 'count': '5691'}\n",
      "{'_id': ObjectId('6390c981a3fe584a9a209dea'), 'year': '2020', 'region': 'Tasman region', 'count': '474'}\n",
      "{'_id': ObjectId('6390c981a3fe584a9a209deb'), 'year': '2020', 'region': 'Nelson region', 'count': '477'}\n",
      "{'_id': ObjectId('6390c981a3fe584a9a209dec'), 'year': '2020', 'region': 'Marlborough region', 'count': '477'}\n",
      "{'_id': ObjectId('6390c981a3fe584a9a209ded'), 'year': '2020', 'region': 'West Coast region', 'count': '312'}\n",
      "{'_id': ObjectId('6390c981a3fe584a9a209dee'), 'year': '2020', 'region': 'Canterbury region', 'count': '6780'}\n",
      "{'_id': ObjectId('6390c981a3fe584a9a209def'), 'year': '2020', 'region': 'Otago region', 'count': '2238'}\n",
      "{'_id': ObjectId('6390c981a3fe584a9a209df0'), 'year': '2020', 'region': 'Southland region', 'count': '1083'}\n",
      "{'_id': ObjectId('6390c981a3fe584a9a209df2'), 'year': '2020', 'region': 'New Zealand', 'count': '57576'}\n",
      "{'_id': ObjectId('6390c981a3fe584a9a209df3'), 'year': '2021', 'region': 'Northland region', 'count': '2262'}\n",
      "{'_id': ObjectId('6390c981a3fe584a9a209df4'), 'year': '2021', 'region': 'Auckland region', 'count': '20520'}\n",
      "{'_id': ObjectId('6390c981a3fe584a9a209df5'), 'year': '2021', 'region': 'Waikato region', 'count': '6330'}\n",
      "{'_id': ObjectId('6390c981a3fe584a9a209df6'), 'year': '2021', 'region': 'Bay of Plenty region', 'count': '4173'}\n",
      "{'_id': ObjectId('6390c981a3fe584a9a209df7'), 'year': '2021', 'region': 'Gisborne region', 'count': '675'}\n",
      "{'_id': ObjectId('6390c981a3fe584a9a209df8'), 'year': '2021', 'region': \"Hawke's Bay region\", 'count': '2127'}\n",
      "{'_id': ObjectId('6390c981a3fe584a9a209df9'), 'year': '2021', 'region': 'Taranaki region', 'count': '1488'}\n",
      "{'_id': ObjectId('6390c981a3fe584a9a209dfa'), 'year': '2021', 'region': 'Manawatu-Wanganui region', 'count': '2952'}\n",
      "{'_id': ObjectId('6390c981a3fe584a9a209dfb'), 'year': '2021', 'region': 'Wellington region', 'count': '5769'}\n",
      "{'_id': ObjectId('6390c981a3fe584a9a209dfc'), 'year': '2021', 'region': 'Tasman region', 'count': '492'}\n",
      "{'_id': ObjectId('6390c981a3fe584a9a209dfd'), 'year': '2021', 'region': 'Nelson region', 'count': '498'}\n",
      "{'_id': ObjectId('6390c981a3fe584a9a209dfe'), 'year': '2021', 'region': 'Marlborough region', 'count': '486'}\n",
      "{'_id': ObjectId('6390c981a3fe584a9a209dff'), 'year': '2021', 'region': 'West Coast region', 'count': '333'}\n",
      "{'_id': ObjectId('6390c981a3fe584a9a209e00'), 'year': '2021', 'region': 'Canterbury region', 'count': '7158'}\n",
      "{'_id': ObjectId('6390c981a3fe584a9a209e01'), 'year': '2021', 'region': 'Otago region', 'count': '2325'}\n",
      "{'_id': ObjectId('6390c981a3fe584a9a209e02'), 'year': '2021', 'region': 'Southland region', 'count': '1059'}\n",
      "{'_id': ObjectId('6390c981a3fe584a9a209e04'), 'year': '2021', 'region': 'New Zealand', 'count': '58659'}\n"
     ]
    }
   ],
   "source": [
    "cursor = births.find()\n",
    "for element in cursor:\n",
    "    print(element)"
   ],
   "metadata": {
    "collapsed": false
   }
  },
  {
   "cell_type": "markdown",
   "source": [
    "# Aggregation:\n",
    "cette fonction python execute une commande d'aggregation de mongodb\n",
    "pour trouver le nombre de décès ou naissances au cours d'une année donnée"
   ],
   "metadata": {
    "collapsed": false
   }
  },
  {
   "cell_type": "code",
   "execution_count": 119,
   "outputs": [
    {
     "name": "stdout",
     "output_type": "stream",
     "text": [
      "58374\n",
      "128622\n"
     ]
    }
   ],
   "source": [
    "def get_by_year(collection, year):\n",
    "    aggregation_expression = [\n",
    "        {\n",
    "            '$match': {'year': str(year)},\n",
    "        },\n",
    "        {\n",
    "            \"$group\": {\"_id\": \"null\", \"somme\": {\"$sum\": {\"$toInt\": \"$count\"}}}\n",
    "        },\n",
    "    ]\n",
    "\n",
    "    ppl = db.command('aggregate', collection, pipeline=aggregation_expression, explain=False)\n",
    "    # print(\"resultat d'aggregation \\n\", ppl, end='\\n\\n')\n",
    "    try:\n",
    "        # print(f\"{collection} in {year}:\")\n",
    "        return ppl['cursor']['firstBatch'][0]['somme']\n",
    "    except:\n",
    "        return 0\n",
    "\n",
    "print(get_by_year('deaths', 2008))\n",
    "print(get_by_year('births', 2008))"
   ],
   "metadata": {
    "collapsed": false
   }
  },
  {
   "cell_type": "markdown",
   "source": [],
   "metadata": {
    "collapsed": false
   }
  },
  {
   "cell_type": "code",
   "execution_count": 148,
   "outputs": [
    {
     "name": "stdout",
     "output_type": "stream",
     "text": [
      "[54063, 56484, 57042, 58374, 57924, 56871, 60165, 60195, 59136, 62127, 63216, 62361, 66687, 66456, 68523, 65220]\n",
      "[2005, 2006, 2007, 2008, 2009, 2010, 2011, 2012, 2013, 2014, 2015, 2016, 2017, 2018, 2019, 2020]\n"
     ]
    },
    {
     "data": {
      "text/plain": "<BarContainer object of 16 artists>"
     },
     "execution_count": 148,
     "metadata": {},
     "output_type": "execute_result"
    },
    {
     "data": {
      "text/plain": "<Figure size 640x480 with 1 Axes>",
      "image/png": "[encoded data removed]"
     },
     "metadata": {},
     "output_type": "display_data"
    }
   ],
   "source": [
    "deaths_by_year = []\n",
    "years = []\n",
    "\n",
    "for x in range(2005,2021):\n",
    "    years.append(x)\n",
    "    deaths_by_year.append(get_by_year('deaths', str(x)))\n",
    "print(deaths_by_year)\n",
    "print(years)\n",
    "\n",
    "plt.bar(years, deaths_by_year, width=1, color='crimson', ec='black')\n"
   ],
   "metadata": {
    "collapsed": false
   }
  },
  {
   "cell_type": "code",
   "execution_count": 149,
   "outputs": [
    {
     "name": "stdout",
     "output_type": "stream",
     "text": [
      "[54063, 56484, 57042, 58374, 57924, 56871, 60165, 60195, 59136, 62127, 63216, 62361, 66687, 66456, 68523, 65220]\n",
      "[2005, 2006, 2007, 2008, 2009, 2010, 2011, 2012, 2013, 2014, 2015, 2016, 2017, 2018, 2019, 2020]\n"
     ]
    },
    {
     "data": {
      "text/plain": "<BarContainer object of 16 artists>"
     },
     "execution_count": 149,
     "metadata": {},
     "output_type": "execute_result"
    },
    {
     "data": {
      "text/plain": "<Figure size 640x480 with 1 Axes>",
      "image/png": "[encoded data removed]"
     },
     "metadata": {},
     "output_type": "display_data"
    }
   ],
   "source": [
    "births_by_year = []\n",
    "years = []\n",
    "\n",
    "for x in range(2005,2021):\n",
    "    years.append(x)\n",
    "    births_by_year.append(get_by_year('births', str(x)))\n",
    "print(deaths_by_year)\n",
    "print(years)\n",
    "\n",
    "plt.bar(years, births_by_year, width=1, color='green', ec='black')\n"
   ],
   "metadata": {
    "collapsed": false
   }
  },
  {
   "cell_type": "code",
   "execution_count": null,
   "outputs": [],
   "source": [],
   "metadata": {
    "collapsed": false
   }
  }
 ],
 "metadata": {
  "kernelspec": {
   "display_name": "Python 3",
   "language": "python",
   "name": "python3"
  },
  "language_info": {
   "codemirror_mode": {
    "name": "ipython",
    "version": 2
   },
   "file_extension": ".py",
   "mimetype": "text/x-python",
   "name": "python",
   "nbconvert_exporter": "python",
   "pygments_lexer": "ipython2",
   "version": "2.7.6"
  }
 },
 "nbformat": 4,
 "nbformat_minor": 0
}
